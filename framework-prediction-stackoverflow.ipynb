{
 "cells": [
  {
   "cell_type": "markdown",
   "id": "d5ca2aef",
   "metadata": {
    "papermill": {
     "duration": 0.0123,
     "end_time": "2023-04-15T01:15:52.382883",
     "exception": false,
     "start_time": "2023-04-15T01:15:52.370583",
     "status": "completed"
    },
    "tags": []
   },
   "source": [
    "# Introduction"
   ]
  },
  {
   "cell_type": "markdown",
   "id": "ff762d4f",
   "metadata": {
    "papermill": {
     "duration": 0.010844,
     "end_time": "2023-04-15T01:15:52.404998",
     "exception": false,
     "start_time": "2023-04-15T01:15:52.394154",
     "status": "completed"
    },
    "tags": []
   },
   "source": [
    "The task is to predict library by question title on StackOverflow. For solving this task I fine-tune pretrained transformer-based models like BERT (or some variations).\n",
    "\n",
    "P.S. If you have any issues with plots on GitHub pls [check this notebook on Kaggle](https://www.kaggle.com/code/xyinspired/framework-prediction-stackoverflow/notebook)."
   ]
  },
  {
   "cell_type": "markdown",
   "id": "9dc41d87",
   "metadata": {
    "papermill": {
     "duration": 0.010759,
     "end_time": "2023-04-15T01:15:52.426765",
     "exception": false,
     "start_time": "2023-04-15T01:15:52.416006",
     "status": "completed"
    },
    "tags": []
   },
   "source": [
    "# Imports"
   ]
  },
  {
   "cell_type": "code",
   "execution_count": 1,
   "id": "bcc1f53b",
   "metadata": {
    "execution": {
     "iopub.execute_input": "2023-04-15T01:15:52.452259Z",
     "iopub.status.busy": "2023-04-15T01:15:52.451282Z",
     "iopub.status.idle": "2023-04-15T01:16:03.690548Z",
     "shell.execute_reply": "2023-04-15T01:16:03.688331Z"
    },
    "papermill": {
     "duration": 11.2586,
     "end_time": "2023-04-15T01:16:03.697365",
     "exception": false,
     "start_time": "2023-04-15T01:15:52.438765",
     "status": "completed"
    },
    "tags": []
   },
   "outputs": [
    {
     "name": "stdout",
     "output_type": "stream",
     "text": [
      "\u001b[33mWARNING: Running pip as the 'root' user can result in broken permissions and conflicting behaviour with the system package manager. It is recommended to use a virtual environment instead: https://pip.pypa.io/warnings/venv\u001b[0m\u001b[33m\r\n",
      "\u001b[0m"
     ]
    }
   ],
   "source": [
    "!pip install lets_plot transformers -q"
   ]
  },
  {
   "cell_type": "code",
   "execution_count": 2,
   "id": "5e51477c",
   "metadata": {
    "_cell_guid": "b1076dfc-b9ad-4769-8c92-a6c4dae69d19",
    "_uuid": "8f2839f25d086af736a60e9eeb907d3b93b6e0e5",
    "execution": {
     "iopub.execute_input": "2023-04-15T01:16:03.737081Z",
     "iopub.status.busy": "2023-04-15T01:16:03.736461Z",
     "iopub.status.idle": "2023-04-15T01:16:15.362449Z",
     "shell.execute_reply": "2023-04-15T01:16:15.361287Z"
    },
    "papermill": {
     "duration": 11.650712,
     "end_time": "2023-04-15T01:16:15.365127",
     "exception": false,
     "start_time": "2023-04-15T01:16:03.714415",
     "status": "completed"
    },
    "tags": []
   },
   "outputs": [],
   "source": [
    "from lets_plot import *\n",
    "from transformers import DistilBertTokenizer, DistilBertForSequenceClassification, AdamW, get_linear_schedule_with_warmup\n",
    "from torch.utils.data import TensorDataset, random_split, DataLoader, RandomSampler, SequentialSampler\n",
    "from sklearn import metrics\n",
    "\n",
    "import torch.nn.functional as F\n",
    "import numpy as np\n",
    "import random\n",
    "import pandas as pd\n",
    "import os\n",
    "import torch"
   ]
  },
  {
   "cell_type": "code",
   "execution_count": 3,
   "id": "441e348b",
   "metadata": {
    "execution": {
     "iopub.execute_input": "2023-04-15T01:16:15.390148Z",
     "iopub.status.busy": "2023-04-15T01:16:15.389832Z",
     "iopub.status.idle": "2023-04-15T01:16:15.394519Z",
     "shell.execute_reply": "2023-04-15T01:16:15.393518Z"
    },
    "papermill": {
     "duration": 0.017411,
     "end_time": "2023-04-15T01:16:15.396764",
     "exception": false,
     "start_time": "2023-04-15T01:16:15.379353",
     "status": "completed"
    },
    "tags": []
   },
   "outputs": [],
   "source": [
    "np.random.seed(42)"
   ]
  },
  {
   "cell_type": "code",
   "execution_count": 4,
   "id": "4a01449c",
   "metadata": {
    "execution": {
     "iopub.execute_input": "2023-04-15T01:16:15.417615Z",
     "iopub.status.busy": "2023-04-15T01:16:15.417325Z",
     "iopub.status.idle": "2023-04-15T01:16:15.424516Z",
     "shell.execute_reply": "2023-04-15T01:16:15.423442Z"
    },
    "papermill": {
     "duration": 0.020279,
     "end_time": "2023-04-15T01:16:15.426960",
     "exception": false,
     "start_time": "2023-04-15T01:16:15.406681",
     "status": "completed"
    },
    "tags": []
   },
   "outputs": [
    {
     "data": {
      "text/html": [
       "\n",
       "            <div id=\"WFNQJR\"></div>\n",
       "            <script type=\"text/javascript\" data-lets-plot-script=\"library\">\n",
       "                if(!window.letsPlotCallQueue) {\n",
       "                    window.letsPlotCallQueue = [];\n",
       "                }; \n",
       "                window.letsPlotCall = function(f) {\n",
       "                    window.letsPlotCallQueue.push(f);\n",
       "                };\n",
       "                (function() {\n",
       "                    var script = document.createElement(\"script\");\n",
       "                    script.type = \"text/javascript\";\n",
       "                    script.src = \"https://cdn.jsdelivr.net/gh/JetBrains/lets-plot@v3.1.0/js-package/distr/lets-plot.min.js\";\n",
       "                    script.onload = function() {\n",
       "                        window.letsPlotCall = function(f) {f();};\n",
       "                        window.letsPlotCallQueue.forEach(function(f) {f();});\n",
       "                        window.letsPlotCallQueue = [];\n",
       "                        \n",
       "                    };\n",
       "                    script.onerror = function(event) {\n",
       "                        window.letsPlotCall = function(f) {};    // noop\n",
       "                        window.letsPlotCallQueue = [];\n",
       "                        var div = document.createElement(\"div\");\n",
       "                        div.style.color = 'darkred';\n",
       "                        div.textContent = 'Error loading Lets-Plot JS';\n",
       "                        document.getElementById(\"WFNQJR\").appendChild(div);\n",
       "                    };\n",
       "                    var e = document.getElementById(\"WFNQJR\");\n",
       "                    e.appendChild(script);\n",
       "                })()\n",
       "            </script>\n",
       "            "
      ]
     },
     "metadata": {},
     "output_type": "display_data"
    }
   ],
   "source": [
    "LetsPlot.setup_html()"
   ]
  },
  {
   "cell_type": "markdown",
   "id": "cabcf46f",
   "metadata": {
    "papermill": {
     "duration": 0.009061,
     "end_time": "2023-04-15T01:16:15.445198",
     "exception": false,
     "start_time": "2023-04-15T01:16:15.436137",
     "status": "completed"
    },
    "tags": []
   },
   "source": [
    "# SetUp"
   ]
  },
  {
   "cell_type": "code",
   "execution_count": 5,
   "id": "3c95c9c5",
   "metadata": {
    "execution": {
     "iopub.execute_input": "2023-04-15T01:16:15.466455Z",
     "iopub.status.busy": "2023-04-15T01:16:15.466152Z",
     "iopub.status.idle": "2023-04-15T01:16:15.544082Z",
     "shell.execute_reply": "2023-04-15T01:16:15.542689Z"
    },
    "papermill": {
     "duration": 0.092017,
     "end_time": "2023-04-15T01:16:15.546510",
     "exception": false,
     "start_time": "2023-04-15T01:16:15.454493",
     "status": "completed"
    },
    "tags": []
   },
   "outputs": [
    {
     "name": "stdout",
     "output_type": "stream",
     "text": [
      "Using GPU : Tesla P100-PCIE-16GB\n"
     ]
    }
   ],
   "source": [
    "if torch.cuda.is_available():    \n",
    "    device = torch.device(\"cuda\")\n",
    "    print(f'Using GPU : {torch.cuda.get_device_name(0)}')\n",
    "else:\n",
    "    device = torch.device(\"cpu\")\n",
    "    print(f'Using CPU')"
   ]
  },
  {
   "cell_type": "markdown",
   "id": "2abfcf78",
   "metadata": {
    "papermill": {
     "duration": 0.009446,
     "end_time": "2023-04-15T01:16:15.565505",
     "exception": false,
     "start_time": "2023-04-15T01:16:15.556059",
     "status": "completed"
    },
    "tags": []
   },
   "source": [
    "# Data"
   ]
  },
  {
   "cell_type": "markdown",
   "id": "1b4a60bc",
   "metadata": {
    "papermill": {
     "duration": 0.00949,
     "end_time": "2023-04-15T01:16:15.584267",
     "exception": false,
     "start_time": "2023-04-15T01:16:15.574777",
     "status": "completed"
    },
    "tags": []
   },
   "source": [
    "## Exploration"
   ]
  },
  {
   "cell_type": "code",
   "execution_count": 6,
   "id": "9026c058",
   "metadata": {
    "execution": {
     "iopub.execute_input": "2023-04-15T01:16:15.604852Z",
     "iopub.status.busy": "2023-04-15T01:16:15.603916Z",
     "iopub.status.idle": "2023-04-15T01:16:15.608765Z",
     "shell.execute_reply": "2023-04-15T01:16:15.607791Z"
    },
    "papermill": {
     "duration": 0.017355,
     "end_time": "2023-04-15T01:16:15.610964",
     "exception": false,
     "start_time": "2023-04-15T01:16:15.593609",
     "status": "completed"
    },
    "tags": []
   },
   "outputs": [],
   "source": [
    "path_to_train_data = '/kaggle/input/stackoverlow-data/train.csv'\n",
    "path_to_test_data = '/kaggle/input/stackoverlow-data/test.csv'"
   ]
  },
  {
   "cell_type": "code",
   "execution_count": 7,
   "id": "65f184ec",
   "metadata": {
    "execution": {
     "iopub.execute_input": "2023-04-15T01:16:15.631500Z",
     "iopub.status.busy": "2023-04-15T01:16:15.630574Z",
     "iopub.status.idle": "2023-04-15T01:16:16.082980Z",
     "shell.execute_reply": "2023-04-15T01:16:16.081865Z"
    },
    "papermill": {
     "duration": 0.46744,
     "end_time": "2023-04-15T01:16:16.087751",
     "exception": false,
     "start_time": "2023-04-15T01:16:15.620311",
     "status": "completed"
    },
    "tags": []
   },
   "outputs": [],
   "source": [
    "train_data = pd.read_csv(path_to_train_data)\n",
    "test_data = pd.read_csv(path_to_test_data)"
   ]
  },
  {
   "cell_type": "code",
   "execution_count": 8,
   "id": "ea14aa72",
   "metadata": {
    "execution": {
     "iopub.execute_input": "2023-04-15T01:16:16.119958Z",
     "iopub.status.busy": "2023-04-15T01:16:16.119575Z",
     "iopub.status.idle": "2023-04-15T01:16:16.147207Z",
     "shell.execute_reply": "2023-04-15T01:16:16.146320Z"
    },
    "papermill": {
     "duration": 0.046978,
     "end_time": "2023-04-15T01:16:16.149989",
     "exception": false,
     "start_time": "2023-04-15T01:16:16.103011",
     "status": "completed"
    },
    "tags": []
   },
   "outputs": [
    {
     "name": "stdout",
     "output_type": "stream",
     "text": [
      "(134024, 3)\n"
     ]
    },
    {
     "data": {
      "text/html": [
       "<div>\n",
       "<style scoped>\n",
       "    .dataframe tbody tr th:only-of-type {\n",
       "        vertical-align: middle;\n",
       "    }\n",
       "\n",
       "    .dataframe tbody tr th {\n",
       "        vertical-align: top;\n",
       "    }\n",
       "\n",
       "    .dataframe thead th {\n",
       "        text-align: right;\n",
       "    }\n",
       "</style>\n",
       "<table border=\"1\" class=\"dataframe\">\n",
       "  <thead>\n",
       "    <tr style=\"text-align: right;\">\n",
       "      <th></th>\n",
       "      <th>title</th>\n",
       "      <th>lib</th>\n",
       "      <th>id</th>\n",
       "    </tr>\n",
       "  </thead>\n",
       "  <tbody>\n",
       "    <tr>\n",
       "      <th>0</th>\n",
       "      <td>Is there a way to sort strings in alphabetical...</td>\n",
       "      <td>functools</td>\n",
       "      <td>84026</td>\n",
       "    </tr>\n",
       "    <tr>\n",
       "      <th>1</th>\n",
       "      <td>Maintaining history by soft deleting the row o...</td>\n",
       "      <td>django</td>\n",
       "      <td>8930</td>\n",
       "    </tr>\n",
       "    <tr>\n",
       "      <th>2</th>\n",
       "      <td>Wave on a string analysis</td>\n",
       "      <td>numpy</td>\n",
       "      <td>133474</td>\n",
       "    </tr>\n",
       "    <tr>\n",
       "      <th>3</th>\n",
       "      <td>Regular expression find word but NOT if it's p...</td>\n",
       "      <td>re</td>\n",
       "      <td>34429</td>\n",
       "    </tr>\n",
       "    <tr>\n",
       "      <th>4</th>\n",
       "      <td>TextBlob - Loop over articles to calculate pol...</td>\n",
       "      <td>pandas</td>\n",
       "      <td>82106</td>\n",
       "    </tr>\n",
       "  </tbody>\n",
       "</table>\n",
       "</div>"
      ],
      "text/plain": [
       "                                               title        lib      id\n",
       "0  Is there a way to sort strings in alphabetical...  functools   84026\n",
       "1  Maintaining history by soft deleting the row o...     django    8930\n",
       "2                          Wave on a string analysis      numpy  133474\n",
       "3  Regular expression find word but NOT if it's p...         re   34429\n",
       "4  TextBlob - Loop over articles to calculate pol...     pandas   82106"
      ]
     },
     "execution_count": 8,
     "metadata": {},
     "output_type": "execute_result"
    }
   ],
   "source": [
    "print(train_data.shape)\n",
    "train_data.head()"
   ]
  },
  {
   "cell_type": "markdown",
   "id": "32a0946e",
   "metadata": {
    "papermill": {
     "duration": 0.014133,
     "end_time": "2023-04-15T01:16:16.182809",
     "exception": false,
     "start_time": "2023-04-15T01:16:16.168676",
     "status": "completed"
    },
    "tags": []
   },
   "source": [
    "As we can see there are no null values in our train dataset. Also we can notice that some questions have the same title and at all we got 24 libraries (classes)."
   ]
  },
  {
   "cell_type": "code",
   "execution_count": 9,
   "id": "16a6bfb9",
   "metadata": {
    "execution": {
     "iopub.execute_input": "2023-04-15T01:16:16.214264Z",
     "iopub.status.busy": "2023-04-15T01:16:16.213783Z",
     "iopub.status.idle": "2023-04-15T01:16:16.332442Z",
     "shell.execute_reply": "2023-04-15T01:16:16.331287Z"
    },
    "papermill": {
     "duration": 0.138224,
     "end_time": "2023-04-15T01:16:16.335406",
     "exception": false,
     "start_time": "2023-04-15T01:16:16.197182",
     "status": "completed"
    },
    "tags": []
   },
   "outputs": [
    {
     "name": "stdout",
     "output_type": "stream",
     "text": [
      "Null values:\n",
      "title    0\n",
      "lib      0\n",
      "id       0\n",
      "dtype: int64\n",
      "Unique:\n",
      "title    134014\n",
      "lib          24\n",
      "id       134024\n",
      "dtype: int64\n"
     ]
    }
   ],
   "source": [
    "print(f'Null values:\\n{train_data.isna().sum()}')\n",
    "print(f'Unique:\\n{train_data.nunique()}')"
   ]
  },
  {
   "cell_type": "code",
   "execution_count": 10,
   "id": "09d4bd30",
   "metadata": {
    "execution": {
     "iopub.execute_input": "2023-04-15T01:16:16.368915Z",
     "iopub.status.busy": "2023-04-15T01:16:16.367907Z",
     "iopub.status.idle": "2023-04-15T01:16:16.384371Z",
     "shell.execute_reply": "2023-04-15T01:16:16.383386Z"
    },
    "papermill": {
     "duration": 0.035427,
     "end_time": "2023-04-15T01:16:16.387212",
     "exception": false,
     "start_time": "2023-04-15T01:16:16.351785",
     "status": "completed"
    },
    "tags": []
   },
   "outputs": [
    {
     "name": "stdout",
     "output_type": "stream",
     "text": [
      "(33506, 2)\n"
     ]
    },
    {
     "data": {
      "text/html": [
       "<div>\n",
       "<style scoped>\n",
       "    .dataframe tbody tr th:only-of-type {\n",
       "        vertical-align: middle;\n",
       "    }\n",
       "\n",
       "    .dataframe tbody tr th {\n",
       "        vertical-align: top;\n",
       "    }\n",
       "\n",
       "    .dataframe thead th {\n",
       "        text-align: right;\n",
       "    }\n",
       "</style>\n",
       "<table border=\"1\" class=\"dataframe\">\n",
       "  <thead>\n",
       "    <tr style=\"text-align: right;\">\n",
       "      <th></th>\n",
       "      <th>title</th>\n",
       "      <th>id</th>\n",
       "    </tr>\n",
       "  </thead>\n",
       "  <tbody>\n",
       "    <tr>\n",
       "      <th>0</th>\n",
       "      <td>cython: pass a 2D numpy array to cdef function</td>\n",
       "      <td>119056</td>\n",
       "    </tr>\n",
       "    <tr>\n",
       "      <th>1</th>\n",
       "      <td>What parameters need to be put in the code in ...</td>\n",
       "      <td>63881</td>\n",
       "    </tr>\n",
       "    <tr>\n",
       "      <th>2</th>\n",
       "      <td>Get a classification report stating the class ...</td>\n",
       "      <td>162795</td>\n",
       "    </tr>\n",
       "    <tr>\n",
       "      <th>3</th>\n",
       "      <td>How to interpolate and smooth data with step-l...</td>\n",
       "      <td>149951</td>\n",
       "    </tr>\n",
       "    <tr>\n",
       "      <th>4</th>\n",
       "      <td>Numpy: concatenate different dtypes whilst pre...</td>\n",
       "      <td>90130</td>\n",
       "    </tr>\n",
       "  </tbody>\n",
       "</table>\n",
       "</div>"
      ],
      "text/plain": [
       "                                               title      id\n",
       "0     cython: pass a 2D numpy array to cdef function  119056\n",
       "1  What parameters need to be put in the code in ...   63881\n",
       "2  Get a classification report stating the class ...  162795\n",
       "3  How to interpolate and smooth data with step-l...  149951\n",
       "4  Numpy: concatenate different dtypes whilst pre...   90130"
      ]
     },
     "execution_count": 10,
     "metadata": {},
     "output_type": "execute_result"
    }
   ],
   "source": [
    "print(test_data.shape)\n",
    "test_data.head()"
   ]
  },
  {
   "cell_type": "code",
   "execution_count": 11,
   "id": "43e246f4",
   "metadata": {
    "execution": {
     "iopub.execute_input": "2023-04-15T01:16:16.419433Z",
     "iopub.status.busy": "2023-04-15T01:16:16.419062Z",
     "iopub.status.idle": "2023-04-15T01:16:16.451024Z",
     "shell.execute_reply": "2023-04-15T01:16:16.450145Z"
    },
    "papermill": {
     "duration": 0.050999,
     "end_time": "2023-04-15T01:16:16.453628",
     "exception": false,
     "start_time": "2023-04-15T01:16:16.402629",
     "status": "completed"
    },
    "tags": []
   },
   "outputs": [
    {
     "data": {
      "text/plain": [
       "{'scipy': 0,\n",
       " 'subprocess': 1,\n",
       " 'selenium': 2,\n",
       " 'flask': 3,\n",
       " 'sys': 4,\n",
       " 're': 5,\n",
       " 'sklearn': 6,\n",
       " 'json': 7,\n",
       " 'pandas': 8,\n",
       " 'matplotlib': 9,\n",
       " 'collections': 10,\n",
       " 'csv': 11,\n",
       " 'os': 12,\n",
       " 'time': 13,\n",
       " 'urllib': 14,\n",
       " 'math': 15,\n",
       " 'functools': 16,\n",
       " 'numpy': 17,\n",
       " 'itertools': 18,\n",
       " 'random': 19,\n",
       " 'datetime': 20,\n",
       " 'django': 21,\n",
       " 'tensorflow': 22,\n",
       " 'requests': 23}"
      ]
     },
     "execution_count": 11,
     "metadata": {},
     "output_type": "execute_result"
    }
   ],
   "source": [
    "label_to_id = {k : v for v, k in enumerate(set(train_data.lib))}\n",
    "id_to_label = {v : k for k, v in label_to_id.items()}\n",
    "\n",
    "label_to_id"
   ]
  },
  {
   "cell_type": "code",
   "execution_count": 12,
   "id": "1cf5d979",
   "metadata": {
    "execution": {
     "iopub.execute_input": "2023-04-15T01:16:16.486915Z",
     "iopub.status.busy": "2023-04-15T01:16:16.486564Z",
     "iopub.status.idle": "2023-04-15T01:16:16.766312Z",
     "shell.execute_reply": "2023-04-15T01:16:16.765101Z"
    },
    "papermill": {
     "duration": 0.299836,
     "end_time": "2023-04-15T01:16:16.769544",
     "exception": false,
     "start_time": "2023-04-15T01:16:16.469708",
     "status": "completed"
    },
    "tags": []
   },
   "outputs": [],
   "source": [
    "frequency = pd.DataFrame({\n",
    "   'Library' : list(label_to_id.keys()),\n",
    "   'Count' : [len(train_data[train_data.lib == lib]) for lib in list(label_to_id.keys())]\n",
    "})\n"
   ]
  },
  {
   "cell_type": "code",
   "execution_count": 13,
   "id": "4211397d",
   "metadata": {
    "execution": {
     "iopub.execute_input": "2023-04-15T01:16:16.802222Z",
     "iopub.status.busy": "2023-04-15T01:16:16.801865Z",
     "iopub.status.idle": "2023-04-15T01:16:17.195929Z",
     "shell.execute_reply": "2023-04-15T01:16:17.194943Z"
    },
    "papermill": {
     "duration": 0.412503,
     "end_time": "2023-04-15T01:16:17.198138",
     "exception": false,
     "start_time": "2023-04-15T01:16:16.785635",
     "status": "completed"
    },
    "tags": []
   },
   "outputs": [
    {
     "name": "stderr",
     "output_type": "stream",
     "text": [
      "/opt/conda/lib/python3.7/site-packages/geopandas/_compat.py:115: UserWarning: The Shapely GEOS version (3.9.1-CAPI-1.14.2) is incompatible with the GEOS version PyGEOS was compiled with (3.10.4-CAPI-1.16.2). Conversions between both will be slow.\n",
      "  shapely_geos_version, geos_capi_version_string\n"
     ]
    },
    {
     "data": {
      "text/html": [
       "   <div id=\"vHE4IF\"></div>\n",
       "   <script type=\"text/javascript\" data-lets-plot-script=\"plot\">\n",
       "       (function() {\n",
       "           var plotSpec={\n",
       "\"data\":{\n",
       "},\n",
       "\"mapping\":{\n",
       "\"x\":\"x\",\n",
       "\"weight\":\"weight\",\n",
       "\"fill\":\"fill\"\n",
       "},\n",
       "\"data_meta\":{\n",
       "},\n",
       "\"kind\":\"plot\",\n",
       "\"scales\":[{\n",
       "\"name\":\"Library\",\n",
       "\"aesthetic\":\"x\"\n",
       "},{\n",
       "\"name\":\"Count\",\n",
       "\"aesthetic\":\"y\"\n",
       "}],\n",
       "\"layers\":[{\n",
       "\"geom\":\"bar\",\n",
       "\"mapping\":{\n",
       "},\n",
       "\"data_meta\":{\n",
       "},\n",
       "\"data\":{\n",
       "\"..count..\":[1907.0,2798.0,4818.0,2012.0,8330.0,13420.0,2058.0,4368.0,13372.0,4767.0,7045.0,3528.0,7022.0,3302.0,1734.0,2225.0,1751.0,14758.0,7786.0,5539.0,5008.0,8771.0,1933.0,5772.0],\n",
       "\"x\":[\"scipy\",\"subprocess\",\"selenium\",\"flask\",\"sys\",\"re\",\"sklearn\",\"json\",\"pandas\",\"matplotlib\",\"collections\",\"csv\",\"os\",\"time\",\"urllib\",\"math\",\"functools\",\"numpy\",\"itertools\",\"random\",\"datetime\",\"django\",\"tensorflow\",\"requests\"],\n",
       "\"fill\":[\"scipy\",\"subprocess\",\"selenium\",\"flask\",\"sys\",\"re\",\"sklearn\",\"json\",\"pandas\",\"matplotlib\",\"collections\",\"csv\",\"os\",\"time\",\"urllib\",\"math\",\"functools\",\"numpy\",\"itertools\",\"random\",\"datetime\",\"django\",\"tensorflow\",\"requests\"]\n",
       "}\n",
       "}],\n",
       "\"metainfo_list\":[]\n",
       "};\n",
       "           var plotContainer = document.getElementById(\"vHE4IF\");\n",
       "           window.letsPlotCall(function() {{\n",
       "               LetsPlot.buildPlotFromProcessedSpecs(plotSpec, -1, -1, plotContainer);\n",
       "           }});\n",
       "       })();    \n",
       "   </script>"
      ],
      "text/plain": [
       "<lets_plot.plot.core.PlotSpec at 0x717dd4d01a90>"
      ]
     },
     "execution_count": 13,
     "metadata": {},
     "output_type": "execute_result"
    }
   ],
   "source": [
    "ggplot(frequency, aes(x=frequency.Library, weight=frequency.Count, fill=frequency.Library)) + \\\n",
    "    geom_bar() + labs(x='Library', y='Count')"
   ]
  },
  {
   "cell_type": "markdown",
   "id": "5296f490",
   "metadata": {
    "papermill": {
     "duration": 0.010852,
     "end_time": "2023-04-15T01:16:17.220495",
     "exception": false,
     "start_time": "2023-04-15T01:16:17.209643",
     "status": "completed"
    },
    "tags": []
   },
   "source": [
    "## Preprocessing"
   ]
  },
  {
   "cell_type": "code",
   "execution_count": 14,
   "id": "55f07aac",
   "metadata": {
    "execution": {
     "iopub.execute_input": "2023-04-15T01:16:17.244210Z",
     "iopub.status.busy": "2023-04-15T01:16:17.242540Z",
     "iopub.status.idle": "2023-04-15T01:16:17.248240Z",
     "shell.execute_reply": "2023-04-15T01:16:17.247290Z"
    },
    "papermill": {
     "duration": 0.019191,
     "end_time": "2023-04-15T01:16:17.250322",
     "exception": false,
     "start_time": "2023-04-15T01:16:17.231131",
     "status": "completed"
    },
    "tags": []
   },
   "outputs": [],
   "source": [
    "def extract_label_vector(label, total_labels):\n",
    "    labels = np.zeros(total_labels)\n",
    "    labels[label] = 1\n",
    "    return labels.tolist()"
   ]
  },
  {
   "cell_type": "code",
   "execution_count": 15,
   "id": "526f3818",
   "metadata": {
    "execution": {
     "iopub.execute_input": "2023-04-15T01:16:17.272365Z",
     "iopub.status.busy": "2023-04-15T01:16:17.272064Z",
     "iopub.status.idle": "2023-04-15T01:16:17.948154Z",
     "shell.execute_reply": "2023-04-15T01:16:17.947055Z"
    },
    "papermill": {
     "duration": 0.689942,
     "end_time": "2023-04-15T01:16:17.950516",
     "exception": false,
     "start_time": "2023-04-15T01:16:17.260574",
     "status": "completed"
    },
    "tags": []
   },
   "outputs": [
    {
     "data": {
      "text/html": [
       "<div>\n",
       "<style scoped>\n",
       "    .dataframe tbody tr th:only-of-type {\n",
       "        vertical-align: middle;\n",
       "    }\n",
       "\n",
       "    .dataframe tbody tr th {\n",
       "        vertical-align: top;\n",
       "    }\n",
       "\n",
       "    .dataframe thead th {\n",
       "        text-align: right;\n",
       "    }\n",
       "</style>\n",
       "<table border=\"1\" class=\"dataframe\">\n",
       "  <thead>\n",
       "    <tr style=\"text-align: right;\">\n",
       "      <th></th>\n",
       "      <th>title</th>\n",
       "      <th>lib</th>\n",
       "      <th>id</th>\n",
       "      <th>labels</th>\n",
       "    </tr>\n",
       "  </thead>\n",
       "  <tbody>\n",
       "    <tr>\n",
       "      <th>0</th>\n",
       "      <td>Is there a way to sort strings in alphabetical...</td>\n",
       "      <td>16</td>\n",
       "      <td>84026</td>\n",
       "      <td>[0.0, 0.0, 0.0, 0.0, 0.0, 0.0, 0.0, 0.0, 0.0, ...</td>\n",
       "    </tr>\n",
       "    <tr>\n",
       "      <th>1</th>\n",
       "      <td>Maintaining history by soft deleting the row o...</td>\n",
       "      <td>21</td>\n",
       "      <td>8930</td>\n",
       "      <td>[0.0, 0.0, 0.0, 0.0, 0.0, 0.0, 0.0, 0.0, 0.0, ...</td>\n",
       "    </tr>\n",
       "    <tr>\n",
       "      <th>2</th>\n",
       "      <td>Wave on a string analysis</td>\n",
       "      <td>17</td>\n",
       "      <td>133474</td>\n",
       "      <td>[0.0, 0.0, 0.0, 0.0, 0.0, 0.0, 0.0, 0.0, 0.0, ...</td>\n",
       "    </tr>\n",
       "    <tr>\n",
       "      <th>3</th>\n",
       "      <td>Regular expression find word but NOT if it's p...</td>\n",
       "      <td>5</td>\n",
       "      <td>34429</td>\n",
       "      <td>[0.0, 0.0, 0.0, 0.0, 0.0, 1.0, 0.0, 0.0, 0.0, ...</td>\n",
       "    </tr>\n",
       "    <tr>\n",
       "      <th>4</th>\n",
       "      <td>TextBlob - Loop over articles to calculate pol...</td>\n",
       "      <td>8</td>\n",
       "      <td>82106</td>\n",
       "      <td>[0.0, 0.0, 0.0, 0.0, 0.0, 0.0, 0.0, 0.0, 1.0, ...</td>\n",
       "    </tr>\n",
       "    <tr>\n",
       "      <th>5</th>\n",
       "      <td>Creating a multi-index from csv census data</td>\n",
       "      <td>5</td>\n",
       "      <td>191617</td>\n",
       "      <td>[0.0, 0.0, 0.0, 0.0, 0.0, 1.0, 0.0, 0.0, 0.0, ...</td>\n",
       "    </tr>\n",
       "    <tr>\n",
       "      <th>6</th>\n",
       "      <td>Faster way to remove duplicates from a very la...</td>\n",
       "      <td>18</td>\n",
       "      <td>140810</td>\n",
       "      <td>[0.0, 0.0, 0.0, 0.0, 0.0, 0.0, 0.0, 0.0, 0.0, ...</td>\n",
       "    </tr>\n",
       "    <tr>\n",
       "      <th>7</th>\n",
       "      <td>How do I add values to a list stored as a dict...</td>\n",
       "      <td>10</td>\n",
       "      <td>36324</td>\n",
       "      <td>[0.0, 0.0, 0.0, 0.0, 0.0, 0.0, 0.0, 0.0, 0.0, ...</td>\n",
       "    </tr>\n",
       "    <tr>\n",
       "      <th>8</th>\n",
       "      <td>Python open file in specific application using...</td>\n",
       "      <td>12</td>\n",
       "      <td>189392</td>\n",
       "      <td>[0.0, 0.0, 0.0, 0.0, 0.0, 0.0, 0.0, 0.0, 0.0, ...</td>\n",
       "    </tr>\n",
       "    <tr>\n",
       "      <th>9</th>\n",
       "      <td>Python can't open text file: \"FileNotFoundError\"</td>\n",
       "      <td>12</td>\n",
       "      <td>45889</td>\n",
       "      <td>[0.0, 0.0, 0.0, 0.0, 0.0, 0.0, 0.0, 0.0, 0.0, ...</td>\n",
       "    </tr>\n",
       "  </tbody>\n",
       "</table>\n",
       "</div>"
      ],
      "text/plain": [
       "                                               title  lib      id  \\\n",
       "0  Is there a way to sort strings in alphabetical...   16   84026   \n",
       "1  Maintaining history by soft deleting the row o...   21    8930   \n",
       "2                          Wave on a string analysis   17  133474   \n",
       "3  Regular expression find word but NOT if it's p...    5   34429   \n",
       "4  TextBlob - Loop over articles to calculate pol...    8   82106   \n",
       "5        Creating a multi-index from csv census data    5  191617   \n",
       "6  Faster way to remove duplicates from a very la...   18  140810   \n",
       "7  How do I add values to a list stored as a dict...   10   36324   \n",
       "8  Python open file in specific application using...   12  189392   \n",
       "9   Python can't open text file: \"FileNotFoundError\"   12   45889   \n",
       "\n",
       "                                              labels  \n",
       "0  [0.0, 0.0, 0.0, 0.0, 0.0, 0.0, 0.0, 0.0, 0.0, ...  \n",
       "1  [0.0, 0.0, 0.0, 0.0, 0.0, 0.0, 0.0, 0.0, 0.0, ...  \n",
       "2  [0.0, 0.0, 0.0, 0.0, 0.0, 0.0, 0.0, 0.0, 0.0, ...  \n",
       "3  [0.0, 0.0, 0.0, 0.0, 0.0, 1.0, 0.0, 0.0, 0.0, ...  \n",
       "4  [0.0, 0.0, 0.0, 0.0, 0.0, 0.0, 0.0, 0.0, 1.0, ...  \n",
       "5  [0.0, 0.0, 0.0, 0.0, 0.0, 1.0, 0.0, 0.0, 0.0, ...  \n",
       "6  [0.0, 0.0, 0.0, 0.0, 0.0, 0.0, 0.0, 0.0, 0.0, ...  \n",
       "7  [0.0, 0.0, 0.0, 0.0, 0.0, 0.0, 0.0, 0.0, 0.0, ...  \n",
       "8  [0.0, 0.0, 0.0, 0.0, 0.0, 0.0, 0.0, 0.0, 0.0, ...  \n",
       "9  [0.0, 0.0, 0.0, 0.0, 0.0, 0.0, 0.0, 0.0, 0.0, ...  "
      ]
     },
     "execution_count": 15,
     "metadata": {},
     "output_type": "execute_result"
    }
   ],
   "source": [
    "train_data.lib = train_data.lib.map(lambda x : label_to_id[x])\n",
    "train_data['labels'] = train_data.lib.map(lambda x : extract_label_vector(x, len(label_to_id.keys())))\n",
    "train_data.head(10)"
   ]
  },
  {
   "cell_type": "code",
   "execution_count": 16,
   "id": "b60b017e",
   "metadata": {
    "execution": {
     "iopub.execute_input": "2023-04-15T01:16:17.973737Z",
     "iopub.status.busy": "2023-04-15T01:16:17.973155Z",
     "iopub.status.idle": "2023-04-15T01:16:17.987588Z",
     "shell.execute_reply": "2023-04-15T01:16:17.986522Z"
    },
    "papermill": {
     "duration": 0.028771,
     "end_time": "2023-04-15T01:16:17.990043",
     "exception": false,
     "start_time": "2023-04-15T01:16:17.961272",
     "status": "completed"
    },
    "tags": []
   },
   "outputs": [],
   "source": [
    "text_data = train_data.title.values\n",
    "labels_data = list(train_data.labels)"
   ]
  },
  {
   "cell_type": "code",
   "execution_count": 17,
   "id": "e76735f0",
   "metadata": {
    "execution": {
     "iopub.execute_input": "2023-04-15T01:16:18.012100Z",
     "iopub.status.busy": "2023-04-15T01:16:18.011812Z",
     "iopub.status.idle": "2023-04-15T01:16:18.016437Z",
     "shell.execute_reply": "2023-04-15T01:16:18.015206Z"
    },
    "papermill": {
     "duration": 0.018445,
     "end_time": "2023-04-15T01:16:18.018868",
     "exception": false,
     "start_time": "2023-04-15T01:16:18.000423",
     "status": "completed"
    },
    "tags": []
   },
   "outputs": [],
   "source": [
    "model_name = 'distilbert-base-uncased'\n",
    "# model_name = 'bert-base-cased'"
   ]
  },
  {
   "cell_type": "markdown",
   "id": "0999aa5d",
   "metadata": {
    "papermill": {
     "duration": 0.010137,
     "end_time": "2023-04-15T01:16:18.039320",
     "exception": false,
     "start_time": "2023-04-15T01:16:18.029183",
     "status": "completed"
    },
    "tags": []
   },
   "source": [
    "## Tokenizing text data"
   ]
  },
  {
   "cell_type": "code",
   "execution_count": 18,
   "id": "c03f4ab6",
   "metadata": {
    "execution": {
     "iopub.execute_input": "2023-04-15T01:16:18.061161Z",
     "iopub.status.busy": "2023-04-15T01:16:18.060884Z",
     "iopub.status.idle": "2023-04-15T01:16:19.160451Z",
     "shell.execute_reply": "2023-04-15T01:16:19.159324Z"
    },
    "papermill": {
     "duration": 1.113455,
     "end_time": "2023-04-15T01:16:19.163013",
     "exception": false,
     "start_time": "2023-04-15T01:16:18.049558",
     "status": "completed"
    },
    "tags": []
   },
   "outputs": [
    {
     "data": {
      "application/vnd.jupyter.widget-view+json": {
       "model_id": "06f66990abb5412199aa6ee974f584df",
       "version_major": 2,
       "version_minor": 0
      },
      "text/plain": [
       "Downloading (…)solve/main/vocab.txt:   0%|          | 0.00/232k [00:00<?, ?B/s]"
      ]
     },
     "metadata": {},
     "output_type": "display_data"
    },
    {
     "data": {
      "application/vnd.jupyter.widget-view+json": {
       "model_id": "d72a56cc4e4d4e75b6c80297c08744fc",
       "version_major": 2,
       "version_minor": 0
      },
      "text/plain": [
       "Downloading (…)okenizer_config.json:   0%|          | 0.00/28.0 [00:00<?, ?B/s]"
      ]
     },
     "metadata": {},
     "output_type": "display_data"
    },
    {
     "data": {
      "application/vnd.jupyter.widget-view+json": {
       "model_id": "9b0cb4c78305401696e41ad3702f0247",
       "version_major": 2,
       "version_minor": 0
      },
      "text/plain": [
       "Downloading (…)lve/main/config.json:   0%|          | 0.00/483 [00:00<?, ?B/s]"
      ]
     },
     "metadata": {},
     "output_type": "display_data"
    }
   ],
   "source": [
    "tokenizer = DistilBertTokenizer.from_pretrained(model_name)"
   ]
  },
  {
   "cell_type": "code",
   "execution_count": 19,
   "id": "8aab6324",
   "metadata": {
    "execution": {
     "iopub.execute_input": "2023-04-15T01:16:19.187065Z",
     "iopub.status.busy": "2023-04-15T01:16:19.186208Z",
     "iopub.status.idle": "2023-04-15T01:17:13.541285Z",
     "shell.execute_reply": "2023-04-15T01:17:13.540017Z"
    },
    "papermill": {
     "duration": 54.380411,
     "end_time": "2023-04-15T01:17:13.554576",
     "exception": false,
     "start_time": "2023-04-15T01:16:19.174165",
     "status": "completed"
    },
    "tags": []
   },
   "outputs": [
    {
     "name": "stdout",
     "output_type": "stream",
     "text": [
      "Max length:  78.0\n"
     ]
    }
   ],
   "source": [
    "max_len = np.zeros(len(text_data))\n",
    "for i in range(len(text_data)):\n",
    "    input_ids = tokenizer.encode(text_data[i], add_special_tokens=True)\n",
    "    max_len[i] = len(input_ids)\n",
    "print('Max length: ', max_len.max())"
   ]
  },
  {
   "cell_type": "code",
   "execution_count": 20,
   "id": "eea3ede6",
   "metadata": {
    "execution": {
     "iopub.execute_input": "2023-04-15T01:17:13.577833Z",
     "iopub.status.busy": "2023-04-15T01:17:13.577539Z",
     "iopub.status.idle": "2023-04-15T01:18:19.369869Z",
     "shell.execute_reply": "2023-04-15T01:18:19.368801Z"
    },
    "papermill": {
     "duration": 65.807189,
     "end_time": "2023-04-15T01:18:19.372798",
     "exception": false,
     "start_time": "2023-04-15T01:17:13.565609",
     "status": "completed"
    },
    "tags": []
   },
   "outputs": [
    {
     "name": "stderr",
     "output_type": "stream",
     "text": [
      "/opt/conda/lib/python3.7/site-packages/transformers/tokenization_utils_base.py:2352: FutureWarning: The `pad_to_max_length` argument is deprecated and will be removed in a future version, use `padding=True` or `padding='longest'` to pad to the longest sequence in the batch, or use `padding='max_length'` to pad to a max length. In this case, you can give a specific length with `max_length` (e.g. `max_length=45`) or leave max_length to None to pad to the maximal input size of the model (e.g. 512 for Bert).\n",
      "  FutureWarning,\n"
     ]
    }
   ],
   "source": [
    "input_ids = []\n",
    "attention_masks = []\n",
    "\n",
    "for text in text_data:\n",
    "    encoded_dict = tokenizer.encode_plus(\n",
    "                        text,                     \n",
    "                        add_special_tokens = True,\n",
    "                        max_length = 128,          \n",
    "                        pad_to_max_length = True,\n",
    "                        truncation=True,\n",
    "                        return_attention_mask = True,  \n",
    "                        return_tensors = 'pt')\n",
    "    input_ids.append(encoded_dict['input_ids'])\n",
    "    attention_masks.append(encoded_dict['attention_mask'])\n",
    "\n",
    "input_ids = torch.cat(input_ids, dim=0)\n",
    "attention_masks = torch.cat(attention_masks, dim=0)\n",
    "labels_tensor = torch.tensor(labels_data)"
   ]
  },
  {
   "cell_type": "code",
   "execution_count": 21,
   "id": "f6b82266",
   "metadata": {
    "execution": {
     "iopub.execute_input": "2023-04-15T01:18:19.396309Z",
     "iopub.status.busy": "2023-04-15T01:18:19.395999Z",
     "iopub.status.idle": "2023-04-15T01:18:19.400532Z",
     "shell.execute_reply": "2023-04-15T01:18:19.399433Z"
    },
    "papermill": {
     "duration": 0.019224,
     "end_time": "2023-04-15T01:18:19.403292",
     "exception": false,
     "start_time": "2023-04-15T01:18:19.384068",
     "status": "completed"
    },
    "tags": []
   },
   "outputs": [],
   "source": [
    "val_size = 0.1"
   ]
  },
  {
   "cell_type": "code",
   "execution_count": 22,
   "id": "263f00c8",
   "metadata": {
    "execution": {
     "iopub.execute_input": "2023-04-15T01:18:19.425936Z",
     "iopub.status.busy": "2023-04-15T01:18:19.425594Z",
     "iopub.status.idle": "2023-04-15T01:18:19.449902Z",
     "shell.execute_reply": "2023-04-15T01:18:19.448847Z"
    },
    "papermill": {
     "duration": 0.038288,
     "end_time": "2023-04-15T01:18:19.452269",
     "exception": false,
     "start_time": "2023-04-15T01:18:19.413981",
     "status": "completed"
    },
    "tags": []
   },
   "outputs": [
    {
     "name": "stdout",
     "output_type": "stream",
     "text": [
      "Train set : 120622\n",
      "Validation set : 13402\n"
     ]
    }
   ],
   "source": [
    "dataset = TensorDataset(input_ids, attention_masks, labels_tensor)\n",
    "train_dataset, val_dataset = random_split(dataset, [1 - val_size, val_size])\n",
    "\n",
    "print(f'Train set : {len(train_dataset)}')\n",
    "print(f'Validation set : {len(val_dataset)}')"
   ]
  },
  {
   "cell_type": "code",
   "execution_count": 23,
   "id": "47ce0eb2",
   "metadata": {
    "execution": {
     "iopub.execute_input": "2023-04-15T01:18:19.474944Z",
     "iopub.status.busy": "2023-04-15T01:18:19.474671Z",
     "iopub.status.idle": "2023-04-15T01:18:19.480689Z",
     "shell.execute_reply": "2023-04-15T01:18:19.479710Z"
    },
    "papermill": {
     "duration": 0.020136,
     "end_time": "2023-04-15T01:18:19.483191",
     "exception": false,
     "start_time": "2023-04-15T01:18:19.463055",
     "status": "completed"
    },
    "tags": []
   },
   "outputs": [
    {
     "name": "stdout",
     "output_type": "stream",
     "text": [
      "train : 1885\n",
      "val : 210\n"
     ]
    }
   ],
   "source": [
    "batch_size = 64\n",
    "\n",
    "train_dataloader = DataLoader(\n",
    "            train_dataset,  \n",
    "            sampler = RandomSampler(train_dataset), \n",
    "            batch_size = batch_size)\n",
    "\n",
    "validation_dataloader = DataLoader(\n",
    "            val_dataset, \n",
    "            sampler = SequentialSampler(val_dataset), \n",
    "            batch_size = batch_size)\n",
    "\n",
    "print(f\"train : {len(train_dataloader)}\")\n",
    "print(f'val : {len(validation_dataloader)}')"
   ]
  },
  {
   "cell_type": "code",
   "execution_count": 24,
   "id": "d3ba1bf8",
   "metadata": {
    "execution": {
     "iopub.execute_input": "2023-04-15T01:18:19.506608Z",
     "iopub.status.busy": "2023-04-15T01:18:19.505825Z",
     "iopub.status.idle": "2023-04-15T01:18:21.323783Z",
     "shell.execute_reply": "2023-04-15T01:18:21.322806Z"
    },
    "papermill": {
     "duration": 1.832182,
     "end_time": "2023-04-15T01:18:21.326190",
     "exception": false,
     "start_time": "2023-04-15T01:18:19.494008",
     "status": "completed"
    },
    "tags": []
   },
   "outputs": [
    {
     "data": {
      "application/vnd.jupyter.widget-view+json": {
       "model_id": "0ccbb930a94e4f55b1141a395a524f9a",
       "version_major": 2,
       "version_minor": 0
      },
      "text/plain": [
       "Downloading pytorch_model.bin:   0%|          | 0.00/268M [00:00<?, ?B/s]"
      ]
     },
     "metadata": {},
     "output_type": "display_data"
    },
    {
     "name": "stderr",
     "output_type": "stream",
     "text": [
      "Some weights of the model checkpoint at distilbert-base-uncased were not used when initializing DistilBertForSequenceClassification: ['vocab_projector.bias', 'vocab_layer_norm.bias', 'vocab_layer_norm.weight', 'vocab_projector.weight', 'vocab_transform.bias', 'vocab_transform.weight']\n",
      "- This IS expected if you are initializing DistilBertForSequenceClassification from the checkpoint of a model trained on another task or with another architecture (e.g. initializing a BertForSequenceClassification model from a BertForPreTraining model).\n",
      "- This IS NOT expected if you are initializing DistilBertForSequenceClassification from the checkpoint of a model that you expect to be exactly identical (initializing a BertForSequenceClassification model from a BertForSequenceClassification model).\n",
      "Some weights of DistilBertForSequenceClassification were not initialized from the model checkpoint at distilbert-base-uncased and are newly initialized: ['pre_classifier.bias', 'pre_classifier.weight', 'classifier.bias', 'classifier.weight']\n",
      "You should probably TRAIN this model on a down-stream task to be able to use it for predictions and inference.\n"
     ]
    }
   ],
   "source": [
    "model = DistilBertForSequenceClassification.from_pretrained(\n",
    "    model_name,\n",
    "    problem_type=\"multi_class_classification\",\n",
    "    num_labels = len(label_to_id.keys()), \n",
    "    output_attentions = False,\n",
    "    output_hidden_states = False, \n",
    ")"
   ]
  },
  {
   "cell_type": "code",
   "execution_count": 25,
   "id": "52eb373a",
   "metadata": {
    "execution": {
     "iopub.execute_input": "2023-04-15T01:18:21.350897Z",
     "iopub.status.busy": "2023-04-15T01:18:21.350612Z",
     "iopub.status.idle": "2023-04-15T01:18:25.705448Z",
     "shell.execute_reply": "2023-04-15T01:18:25.704347Z"
    },
    "papermill": {
     "duration": 4.369598,
     "end_time": "2023-04-15T01:18:25.707709",
     "exception": false,
     "start_time": "2023-04-15T01:18:21.338111",
     "status": "completed"
    },
    "tags": []
   },
   "outputs": [
    {
     "data": {
      "text/plain": [
       "DistilBertForSequenceClassification(\n",
       "  (distilbert): DistilBertModel(\n",
       "    (embeddings): Embeddings(\n",
       "      (word_embeddings): Embedding(30522, 768, padding_idx=0)\n",
       "      (position_embeddings): Embedding(512, 768)\n",
       "      (LayerNorm): LayerNorm((768,), eps=1e-12, elementwise_affine=True)\n",
       "      (dropout): Dropout(p=0.1, inplace=False)\n",
       "    )\n",
       "    (transformer): Transformer(\n",
       "      (layer): ModuleList(\n",
       "        (0): TransformerBlock(\n",
       "          (attention): MultiHeadSelfAttention(\n",
       "            (dropout): Dropout(p=0.1, inplace=False)\n",
       "            (q_lin): Linear(in_features=768, out_features=768, bias=True)\n",
       "            (k_lin): Linear(in_features=768, out_features=768, bias=True)\n",
       "            (v_lin): Linear(in_features=768, out_features=768, bias=True)\n",
       "            (out_lin): Linear(in_features=768, out_features=768, bias=True)\n",
       "          )\n",
       "          (sa_layer_norm): LayerNorm((768,), eps=1e-12, elementwise_affine=True)\n",
       "          (ffn): FFN(\n",
       "            (dropout): Dropout(p=0.1, inplace=False)\n",
       "            (lin1): Linear(in_features=768, out_features=3072, bias=True)\n",
       "            (lin2): Linear(in_features=3072, out_features=768, bias=True)\n",
       "            (activation): GELUActivation()\n",
       "          )\n",
       "          (output_layer_norm): LayerNorm((768,), eps=1e-12, elementwise_affine=True)\n",
       "        )\n",
       "        (1): TransformerBlock(\n",
       "          (attention): MultiHeadSelfAttention(\n",
       "            (dropout): Dropout(p=0.1, inplace=False)\n",
       "            (q_lin): Linear(in_features=768, out_features=768, bias=True)\n",
       "            (k_lin): Linear(in_features=768, out_features=768, bias=True)\n",
       "            (v_lin): Linear(in_features=768, out_features=768, bias=True)\n",
       "            (out_lin): Linear(in_features=768, out_features=768, bias=True)\n",
       "          )\n",
       "          (sa_layer_norm): LayerNorm((768,), eps=1e-12, elementwise_affine=True)\n",
       "          (ffn): FFN(\n",
       "            (dropout): Dropout(p=0.1, inplace=False)\n",
       "            (lin1): Linear(in_features=768, out_features=3072, bias=True)\n",
       "            (lin2): Linear(in_features=3072, out_features=768, bias=True)\n",
       "            (activation): GELUActivation()\n",
       "          )\n",
       "          (output_layer_norm): LayerNorm((768,), eps=1e-12, elementwise_affine=True)\n",
       "        )\n",
       "        (2): TransformerBlock(\n",
       "          (attention): MultiHeadSelfAttention(\n",
       "            (dropout): Dropout(p=0.1, inplace=False)\n",
       "            (q_lin): Linear(in_features=768, out_features=768, bias=True)\n",
       "            (k_lin): Linear(in_features=768, out_features=768, bias=True)\n",
       "            (v_lin): Linear(in_features=768, out_features=768, bias=True)\n",
       "            (out_lin): Linear(in_features=768, out_features=768, bias=True)\n",
       "          )\n",
       "          (sa_layer_norm): LayerNorm((768,), eps=1e-12, elementwise_affine=True)\n",
       "          (ffn): FFN(\n",
       "            (dropout): Dropout(p=0.1, inplace=False)\n",
       "            (lin1): Linear(in_features=768, out_features=3072, bias=True)\n",
       "            (lin2): Linear(in_features=3072, out_features=768, bias=True)\n",
       "            (activation): GELUActivation()\n",
       "          )\n",
       "          (output_layer_norm): LayerNorm((768,), eps=1e-12, elementwise_affine=True)\n",
       "        )\n",
       "        (3): TransformerBlock(\n",
       "          (attention): MultiHeadSelfAttention(\n",
       "            (dropout): Dropout(p=0.1, inplace=False)\n",
       "            (q_lin): Linear(in_features=768, out_features=768, bias=True)\n",
       "            (k_lin): Linear(in_features=768, out_features=768, bias=True)\n",
       "            (v_lin): Linear(in_features=768, out_features=768, bias=True)\n",
       "            (out_lin): Linear(in_features=768, out_features=768, bias=True)\n",
       "          )\n",
       "          (sa_layer_norm): LayerNorm((768,), eps=1e-12, elementwise_affine=True)\n",
       "          (ffn): FFN(\n",
       "            (dropout): Dropout(p=0.1, inplace=False)\n",
       "            (lin1): Linear(in_features=768, out_features=3072, bias=True)\n",
       "            (lin2): Linear(in_features=3072, out_features=768, bias=True)\n",
       "            (activation): GELUActivation()\n",
       "          )\n",
       "          (output_layer_norm): LayerNorm((768,), eps=1e-12, elementwise_affine=True)\n",
       "        )\n",
       "        (4): TransformerBlock(\n",
       "          (attention): MultiHeadSelfAttention(\n",
       "            (dropout): Dropout(p=0.1, inplace=False)\n",
       "            (q_lin): Linear(in_features=768, out_features=768, bias=True)\n",
       "            (k_lin): Linear(in_features=768, out_features=768, bias=True)\n",
       "            (v_lin): Linear(in_features=768, out_features=768, bias=True)\n",
       "            (out_lin): Linear(in_features=768, out_features=768, bias=True)\n",
       "          )\n",
       "          (sa_layer_norm): LayerNorm((768,), eps=1e-12, elementwise_affine=True)\n",
       "          (ffn): FFN(\n",
       "            (dropout): Dropout(p=0.1, inplace=False)\n",
       "            (lin1): Linear(in_features=768, out_features=3072, bias=True)\n",
       "            (lin2): Linear(in_features=3072, out_features=768, bias=True)\n",
       "            (activation): GELUActivation()\n",
       "          )\n",
       "          (output_layer_norm): LayerNorm((768,), eps=1e-12, elementwise_affine=True)\n",
       "        )\n",
       "        (5): TransformerBlock(\n",
       "          (attention): MultiHeadSelfAttention(\n",
       "            (dropout): Dropout(p=0.1, inplace=False)\n",
       "            (q_lin): Linear(in_features=768, out_features=768, bias=True)\n",
       "            (k_lin): Linear(in_features=768, out_features=768, bias=True)\n",
       "            (v_lin): Linear(in_features=768, out_features=768, bias=True)\n",
       "            (out_lin): Linear(in_features=768, out_features=768, bias=True)\n",
       "          )\n",
       "          (sa_layer_norm): LayerNorm((768,), eps=1e-12, elementwise_affine=True)\n",
       "          (ffn): FFN(\n",
       "            (dropout): Dropout(p=0.1, inplace=False)\n",
       "            (lin1): Linear(in_features=768, out_features=3072, bias=True)\n",
       "            (lin2): Linear(in_features=3072, out_features=768, bias=True)\n",
       "            (activation): GELUActivation()\n",
       "          )\n",
       "          (output_layer_norm): LayerNorm((768,), eps=1e-12, elementwise_affine=True)\n",
       "        )\n",
       "      )\n",
       "    )\n",
       "  )\n",
       "  (pre_classifier): Linear(in_features=768, out_features=768, bias=True)\n",
       "  (classifier): Linear(in_features=768, out_features=24, bias=True)\n",
       "  (dropout): Dropout(p=0.2, inplace=False)\n",
       ")"
      ]
     },
     "execution_count": 25,
     "metadata": {},
     "output_type": "execute_result"
    }
   ],
   "source": [
    "model.to(device) # fix to device"
   ]
  },
  {
   "cell_type": "markdown",
   "id": "d0fee140",
   "metadata": {
    "papermill": {
     "duration": 0.011234,
     "end_time": "2023-04-15T01:18:25.730727",
     "exception": false,
     "start_time": "2023-04-15T01:18:25.719493",
     "status": "completed"
    },
    "tags": []
   },
   "source": [
    "We fine-tune our model, not training from scratch so we don't need too much epochs not to overfit (or use EarlyStop)"
   ]
  },
  {
   "cell_type": "code",
   "execution_count": 26,
   "id": "d9482fac",
   "metadata": {
    "execution": {
     "iopub.execute_input": "2023-04-15T01:18:25.755486Z",
     "iopub.status.busy": "2023-04-15T01:18:25.754633Z",
     "iopub.status.idle": "2023-04-15T01:18:25.764429Z",
     "shell.execute_reply": "2023-04-15T01:18:25.762844Z"
    },
    "papermill": {
     "duration": 0.024513,
     "end_time": "2023-04-15T01:18:25.766605",
     "exception": false,
     "start_time": "2023-04-15T01:18:25.742092",
     "status": "completed"
    },
    "tags": []
   },
   "outputs": [
    {
     "name": "stderr",
     "output_type": "stream",
     "text": [
      "/opt/conda/lib/python3.7/site-packages/transformers/optimization.py:395: FutureWarning: This implementation of AdamW is deprecated and will be removed in a future version. Use the PyTorch implementation torch.optim.AdamW instead, or set `no_deprecation_warning=True` to disable this warning\n",
      "  FutureWarning,\n"
     ]
    }
   ],
   "source": [
    "learning_rate = 4e-5\n",
    "epochs = 6\n",
    "\n",
    "optimizer = AdamW(model.parameters(),\n",
    "                  lr = learning_rate)"
   ]
  },
  {
   "cell_type": "code",
   "execution_count": 27,
   "id": "5a82375c",
   "metadata": {
    "execution": {
     "iopub.execute_input": "2023-04-15T01:18:25.790894Z",
     "iopub.status.busy": "2023-04-15T01:18:25.790103Z",
     "iopub.status.idle": "2023-04-15T01:18:25.795003Z",
     "shell.execute_reply": "2023-04-15T01:18:25.793966Z"
    },
    "papermill": {
     "duration": 0.019263,
     "end_time": "2023-04-15T01:18:25.797156",
     "exception": false,
     "start_time": "2023-04-15T01:18:25.777893",
     "status": "completed"
    },
    "tags": []
   },
   "outputs": [],
   "source": [
    "total_steps = len(train_dataloader) * epochs\n",
    "scheduler = get_linear_schedule_with_warmup(optimizer, \n",
    "                                            num_warmup_steps = 300,\n",
    "                                            num_training_steps = total_steps)"
   ]
  },
  {
   "cell_type": "markdown",
   "id": "37c4b118",
   "metadata": {
    "papermill": {
     "duration": 0.011119,
     "end_time": "2023-04-15T01:18:25.819770",
     "exception": false,
     "start_time": "2023-04-15T01:18:25.808651",
     "status": "completed"
    },
    "tags": []
   },
   "source": [
    "# Training and Validation"
   ]
  },
  {
   "cell_type": "code",
   "execution_count": 28,
   "id": "2fefe6a8",
   "metadata": {
    "execution": {
     "iopub.execute_input": "2023-04-15T01:18:25.843781Z",
     "iopub.status.busy": "2023-04-15T01:18:25.843249Z",
     "iopub.status.idle": "2023-04-15T01:18:25.848192Z",
     "shell.execute_reply": "2023-04-15T01:18:25.847224Z"
    },
    "papermill": {
     "duration": 0.019211,
     "end_time": "2023-04-15T01:18:25.850309",
     "exception": false,
     "start_time": "2023-04-15T01:18:25.831098",
     "status": "completed"
    },
    "tags": []
   },
   "outputs": [],
   "source": [
    "def compute_f1_macro(out, pred):\n",
    "    probs = F.softmax(pred, dim=1)\n",
    "    pred = torch.argmax(probs, dim=1)\n",
    "    out = torch.argmax(out, dim=1)\n",
    "    return metrics.f1_score(pred, out, average='macro')"
   ]
  },
  {
   "cell_type": "code",
   "execution_count": 29,
   "id": "dcaabe97",
   "metadata": {
    "execution": {
     "iopub.execute_input": "2023-04-15T01:18:25.874690Z",
     "iopub.status.busy": "2023-04-15T01:18:25.873907Z",
     "iopub.status.idle": "2023-04-15T01:18:25.879617Z",
     "shell.execute_reply": "2023-04-15T01:18:25.878727Z"
    },
    "papermill": {
     "duration": 0.020114,
     "end_time": "2023-04-15T01:18:25.881684",
     "exception": false,
     "start_time": "2023-04-15T01:18:25.861570",
     "status": "completed"
    },
    "tags": []
   },
   "outputs": [],
   "source": [
    "def compute_precision(out, pred):\n",
    "    probs = F.softmax(pred, dim=1)\n",
    "    pred = torch.argmax(probs, dim=1)\n",
    "    out = torch.argmax(out, dim=1)\n",
    "    return metrics.precision_score(pred.numpy(), out.numpy(), average='micro')"
   ]
  },
  {
   "cell_type": "code",
   "execution_count": 30,
   "id": "e1426b2b",
   "metadata": {
    "execution": {
     "iopub.execute_input": "2023-04-15T01:18:25.905811Z",
     "iopub.status.busy": "2023-04-15T01:18:25.905034Z",
     "iopub.status.idle": "2023-04-15T01:18:25.910597Z",
     "shell.execute_reply": "2023-04-15T01:18:25.909744Z"
    },
    "papermill": {
     "duration": 0.019683,
     "end_time": "2023-04-15T01:18:25.912614",
     "exception": false,
     "start_time": "2023-04-15T01:18:25.892931",
     "status": "completed"
    },
    "tags": []
   },
   "outputs": [],
   "source": [
    "def compute_recall(out, pred):\n",
    "    probs = F.softmax(pred, dim=1)\n",
    "    pred = torch.argmax(probs, dim=1)\n",
    "    out = torch.argmax(out, dim=1)\n",
    "    return metrics.recall_score(pred.numpy(), out.numpy(), average='micro')"
   ]
  },
  {
   "cell_type": "code",
   "execution_count": 31,
   "id": "5659e2ae",
   "metadata": {
    "execution": {
     "iopub.execute_input": "2023-04-15T01:18:25.936677Z",
     "iopub.status.busy": "2023-04-15T01:18:25.936196Z",
     "iopub.status.idle": "2023-04-15T01:18:25.941120Z",
     "shell.execute_reply": "2023-04-15T01:18:25.940063Z"
    },
    "papermill": {
     "duration": 0.019026,
     "end_time": "2023-04-15T01:18:25.943164",
     "exception": false,
     "start_time": "2023-04-15T01:18:25.924138",
     "status": "completed"
    },
    "tags": []
   },
   "outputs": [],
   "source": [
    "def get_accuracy_from_logits(logits, labels):\n",
    "    probs = F.softmax(logits, dim=1)\n",
    "    output = torch.argmax(probs, dim=1)\n",
    "    labels = torch.argmax(labels, dim=1)\n",
    "    acc = (output == labels).float().mean()\n",
    "    return acc"
   ]
  },
  {
   "cell_type": "code",
   "execution_count": 32,
   "id": "5075b276",
   "metadata": {
    "execution": {
     "iopub.execute_input": "2023-04-15T01:18:25.967481Z",
     "iopub.status.busy": "2023-04-15T01:18:25.966612Z",
     "iopub.status.idle": "2023-04-15T01:18:25.971353Z",
     "shell.execute_reply": "2023-04-15T01:18:25.970479Z"
    },
    "papermill": {
     "duration": 0.01896,
     "end_time": "2023-04-15T01:18:25.973392",
     "exception": false,
     "start_time": "2023-04-15T01:18:25.954432",
     "status": "completed"
    },
    "tags": []
   },
   "outputs": [],
   "source": [
    "loss_function = torch.nn.CrossEntropyLoss()"
   ]
  },
  {
   "cell_type": "code",
   "execution_count": 33,
   "id": "9b358f06",
   "metadata": {
    "execution": {
     "iopub.execute_input": "2023-04-15T01:18:25.997792Z",
     "iopub.status.busy": "2023-04-15T01:18:25.997040Z",
     "iopub.status.idle": "2023-04-15T02:26:50.612223Z",
     "shell.execute_reply": "2023-04-15T02:26:50.610953Z"
    },
    "papermill": {
     "duration": 4104.629631,
     "end_time": "2023-04-15T02:26:50.614408",
     "exception": false,
     "start_time": "2023-04-15T01:18:25.984777",
     "status": "completed"
    },
    "tags": []
   },
   "outputs": [
    {
     "name": "stdout",
     "output_type": "stream",
     "text": [
      "Training started...\n",
      "\n",
      "#-----------------------#\n",
      "     Epoch : 1 / 6\n",
      "#-----------------------#\n",
      "Average train loss : 1.616\n",
      "\n",
      "Validation started...\n",
      "\n",
      "Average validation loss : 1.304\n",
      "Average validation metrics:\n",
      "----------------\n",
      "Precision : 0.623\n",
      "f1-score macro : 0.526\n",
      "\n",
      "#-----------------------#\n",
      "     Epoch : 2 / 6\n",
      "#-----------------------#\n",
      "Average train loss : 1.226\n",
      "\n",
      "Validation started...\n",
      "\n",
      "Average validation loss : 1.259\n",
      "Average validation metrics:\n",
      "----------------\n",
      "Precision : 0.636\n",
      "f1-score macro : 0.537\n",
      "\n",
      "#-----------------------#\n",
      "     Epoch : 3 / 6\n",
      "#-----------------------#\n",
      "Average train loss : 1.076\n",
      "\n",
      "Validation started...\n",
      "\n",
      "Average validation loss : 1.258\n",
      "Average validation metrics:\n",
      "----------------\n",
      "Precision : 0.635\n",
      "f1-score macro : 0.536\n",
      "\n",
      "#-----------------------#\n",
      "     Epoch : 4 / 6\n",
      "#-----------------------#\n",
      "Average train loss : 0.937\n",
      "\n",
      "Validation started...\n",
      "\n",
      "Average validation loss : 1.297\n",
      "Average validation metrics:\n",
      "----------------\n",
      "Precision : 0.631\n",
      "f1-score macro : 0.535\n",
      "\n",
      "#-----------------------#\n",
      "     Epoch : 5 / 6\n",
      "#-----------------------#\n",
      "Average train loss : 0.816\n",
      "\n",
      "Validation started...\n",
      "\n",
      "Average validation loss : 1.352\n",
      "Average validation metrics:\n",
      "----------------\n",
      "Precision : 0.628\n",
      "f1-score macro : 0.530\n",
      "\n",
      "#-----------------------#\n",
      "     Epoch : 6 / 6\n",
      "#-----------------------#\n",
      "Average train loss : 0.729\n",
      "\n",
      "Validation started...\n",
      "\n",
      "Average validation loss : 1.387\n",
      "Average validation metrics:\n",
      "----------------\n",
      "Precision : 0.624\n",
      "f1-score macro : 0.526\n",
      "\n",
      "Training finished...\n"
     ]
    }
   ],
   "source": [
    "print('Training started...')\n",
    "\n",
    "np.random.seed(42)\n",
    "random.seed(42)\n",
    "torch.manual_seed(42)\n",
    "torch.cuda.manual_seed_all(42)\n",
    "\n",
    "training_stats = []\n",
    "    \n",
    "for epoch_i in range(epochs):\n",
    "    print()\n",
    "    print('#-----------------------#')\n",
    "    print(f'     Epoch : {epoch_i + 1} / {epochs}')\n",
    "    print('#-----------------------#')\n",
    "\n",
    "    model.train()\n",
    "    total_train_loss = 0\n",
    "        \n",
    "    for step, batch in enumerate(train_dataloader):\n",
    "        batch_input_ids = batch[0].to(device)\n",
    "        batch_input_mask = batch[1].to(device)\n",
    "        batch_labels = batch[2].float().to(device)\n",
    "\n",
    "        model.zero_grad()        \n",
    "            \n",
    "        result = model(batch_input_ids, \n",
    "                        attention_mask=batch_input_mask, \n",
    "                        labels=batch_labels,\n",
    "                        return_dict=True)\n",
    "\n",
    "        logits = result.logits\n",
    "        loss = loss_function(logits, batch_labels)\n",
    "\n",
    "        total_train_loss += loss.item()\n",
    "\n",
    "        loss.backward()\n",
    "        torch.nn.utils.clip_grad_norm_(model.parameters(), 1.0)\n",
    "\n",
    "        optimizer.step()\n",
    "        scheduler.step()\n",
    "\n",
    "    avg_train_loss = total_train_loss / len(train_dataloader)            \n",
    "\n",
    "    print(f'Average train loss : {avg_train_loss:.3f}')\n",
    "    print()\n",
    "    print('Validation started...')\n",
    "    print()\n",
    "\n",
    "    model.eval()\n",
    "\n",
    "    total_eval_loss = 0\n",
    "    total_eval_f1_macro = 0\n",
    "    total_precision = 0\n",
    "    nb_eval_steps = 0\n",
    "\n",
    "    for batch in validation_dataloader:\n",
    "        batch_input_ids = batch[0].to(device)\n",
    "        batch_input_mask = batch[1].to(device)\n",
    "        batch_labels = batch[2].float().to(device)\n",
    "\n",
    "        with torch.no_grad():        \n",
    "            result = model(batch_input_ids, \n",
    "                            attention_mask=batch_input_mask,\n",
    "                            labels=batch_labels,\n",
    "                            return_dict=True)\n",
    "            \n",
    "        logits = result.logits\n",
    "        loss = loss_function(logits, batch_labels)\n",
    "\n",
    "        total_eval_loss += loss.item()\n",
    "\n",
    "        logits = logits.detach().cpu()\n",
    "        label_ids = batch_labels.to('cpu').detach()\n",
    "\n",
    "        total_eval_f1_macro += compute_f1_macro(logits, label_ids)\n",
    "        total_precision += compute_precision(logits, label_ids)\n",
    "\n",
    "\n",
    "        \n",
    "    avg_val_f1_macro = total_eval_f1_macro / len(validation_dataloader)\n",
    "    avg_val_loss = total_eval_loss / len(validation_dataloader)\n",
    "    avg_val_precision = total_precision / len(validation_dataloader)\n",
    "    \n",
    "    print(f'Average validation loss : {avg_val_loss:.3f}')\n",
    "    print('Average validation metrics:')\n",
    "    print('----------------')\n",
    "    print(f'Precision : {avg_val_precision:.3f}')\n",
    "    print(f'f1-score macro : {avg_val_f1_macro:.3f}')\n",
    "\n",
    "    training_stats.append(\n",
    "            {\n",
    "                'epoch': epoch_i + 1,\n",
    "                'train_loss': avg_train_loss,\n",
    "                'valid_loss': avg_val_loss,\n",
    "                'val_f1_macro' : avg_val_f1_macro,\n",
    "                'val_precision': avg_val_precision\n",
    "})\n",
    "    \n",
    "print()\n",
    "print('Training finished...')"
   ]
  },
  {
   "cell_type": "code",
   "execution_count": 34,
   "id": "83b7f759",
   "metadata": {
    "execution": {
     "iopub.execute_input": "2023-04-15T02:26:50.641075Z",
     "iopub.status.busy": "2023-04-15T02:26:50.640310Z",
     "iopub.status.idle": "2023-04-15T02:26:50.646997Z",
     "shell.execute_reply": "2023-04-15T02:26:50.645893Z"
    },
    "papermill": {
     "duration": 0.022668,
     "end_time": "2023-04-15T02:26:50.649479",
     "exception": false,
     "start_time": "2023-04-15T02:26:50.626811",
     "status": "completed"
    },
    "tags": []
   },
   "outputs": [],
   "source": [
    "train_loss = [i['train_loss'] for i in training_stats]\n",
    "val_loss = [i['valid_loss'] for i in training_stats]\n",
    "epochs = [i['epoch'] for i in training_stats]\n",
    "val_f1_macro = [i['val_f1_macro'] for i in training_stats]\n",
    "loss_stats = pd.DataFrame({\n",
    "    'epoch' : epochs,\n",
    "    'train_loss' : train_loss,\n",
    "    'val_loss' : val_loss,\n",
    "    'val_f1_macro' : val_f1_macro\n",
    "})"
   ]
  },
  {
   "cell_type": "code",
   "execution_count": 35,
   "id": "78811f3e",
   "metadata": {
    "execution": {
     "iopub.execute_input": "2023-04-15T02:26:50.674748Z",
     "iopub.status.busy": "2023-04-15T02:26:50.674481Z",
     "iopub.status.idle": "2023-04-15T02:26:50.688661Z",
     "shell.execute_reply": "2023-04-15T02:26:50.687363Z"
    },
    "papermill": {
     "duration": 0.03429,
     "end_time": "2023-04-15T02:26:50.695776",
     "exception": false,
     "start_time": "2023-04-15T02:26:50.661486",
     "status": "completed"
    },
    "tags": []
   },
   "outputs": [
    {
     "data": {
      "text/html": [
       "   <div id=\"PQy1Gh\"></div>\n",
       "   <script type=\"text/javascript\" data-lets-plot-script=\"plot\">\n",
       "       (function() {\n",
       "           var plotSpec={\n",
       "\"kind\":\"ggbunch\",\n",
       "\"items\":[{\n",
       "\"x\":100,\n",
       "\"y\":0,\n",
       "\"width\":null,\n",
       "\"height\":null,\n",
       "\"feature_spec\":{\n",
       "\"data\":{\n",
       "\"epoch\":[1.0,2.0,3.0,4.0,5.0,6.0],\n",
       "\"train_loss\":[1.6157163654461464,1.2263911072075842,1.0757525756757518,0.9366805901261792,0.8163741861319352,0.7287569718904774]\n",
       "},\n",
       "\"mapping\":{\n",
       "},\n",
       "\"data_meta\":{\n",
       "},\n",
       "\"ggsize\":{\n",
       "\"width\":500,\n",
       "\"height\":400\n",
       "},\n",
       "\"ggtitle\":{\n",
       "\"text\":\"Average Train Loss\"\n",
       "},\n",
       "\"kind\":\"plot\",\n",
       "\"scales\":[],\n",
       "\"layers\":[{\n",
       "\"geom\":\"path\",\n",
       "\"mapping\":{\n",
       "\"x\":\"epoch\",\n",
       "\"y\":\"train_loss\"\n",
       "},\n",
       "\"data_meta\":{\n",
       "},\n",
       "\"size\":1.3,\n",
       "\"color\":\"blue\",\n",
       "\"data\":{\n",
       "}\n",
       "}],\n",
       "\"metainfo_list\":[]\n",
       "}\n",
       "},{\n",
       "\"x\":700,\n",
       "\"y\":0,\n",
       "\"width\":null,\n",
       "\"height\":null,\n",
       "\"feature_spec\":{\n",
       "\"data\":{\n",
       "\"epoch\":[1.0,2.0,3.0,4.0,5.0,6.0],\n",
       "\"val_loss\":[1.3041452907380604,1.2594234077703386,1.2580001110122316,1.2972467995825268,1.3521890078272139,1.3872858549867357]\n",
       "},\n",
       "\"mapping\":{\n",
       "},\n",
       "\"data_meta\":{\n",
       "},\n",
       "\"ggsize\":{\n",
       "\"width\":500,\n",
       "\"height\":400\n",
       "},\n",
       "\"ggtitle\":{\n",
       "\"text\":\"Average Validation Loss\"\n",
       "},\n",
       "\"kind\":\"plot\",\n",
       "\"scales\":[],\n",
       "\"layers\":[{\n",
       "\"geom\":\"path\",\n",
       "\"mapping\":{\n",
       "\"x\":\"epoch\",\n",
       "\"y\":\"val_loss\"\n",
       "},\n",
       "\"data_meta\":{\n",
       "},\n",
       "\"size\":1.3,\n",
       "\"color\":\"red\",\n",
       "\"data\":{\n",
       "}\n",
       "}],\n",
       "\"metainfo_list\":[]\n",
       "}\n",
       "}]\n",
       "};\n",
       "           var plotContainer = document.getElementById(\"PQy1Gh\");\n",
       "           window.letsPlotCall(function() {{\n",
       "               LetsPlot.buildPlotFromProcessedSpecs(plotSpec, -1, -1, plotContainer);\n",
       "           }});\n",
       "       })();    \n",
       "   </script>"
      ]
     },
     "metadata": {},
     "output_type": "display_data"
    }
   ],
   "source": [
    "bunch = GGBunch()\n",
    "plot = ggplot(loss_stats) + geom_path(aes('epoch', 'train_loss'), size=1.3, color='blue') + ggsize(500, 400) + ggtitle('Average Train Loss')\n",
    "bunch.add_plot(plot, 100, 0)\n",
    "plot = ggplot(loss_stats) + geom_path(aes('epoch', 'val_loss'), size=1.3, color='red') + ggsize(500, 400) + ggtitle('Average Validation Loss')\n",
    "bunch.add_plot(plot, 700, 0)\n",
    "bunch.show()"
   ]
  },
  {
   "cell_type": "markdown",
   "id": "f5f0bc52",
   "metadata": {
    "papermill": {
     "duration": 0.012318,
     "end_time": "2023-04-15T02:26:50.721991",
     "exception": false,
     "start_time": "2023-04-15T02:26:50.709673",
     "status": "completed"
    },
    "tags": []
   },
   "source": [
    "# Inference"
   ]
  },
  {
   "cell_type": "code",
   "execution_count": 36,
   "id": "ad5c0f0c",
   "metadata": {
    "execution": {
     "iopub.execute_input": "2023-04-15T02:26:50.748554Z",
     "iopub.status.busy": "2023-04-15T02:26:50.747994Z",
     "iopub.status.idle": "2023-04-15T02:26:50.753008Z",
     "shell.execute_reply": "2023-04-15T02:26:50.752146Z"
    },
    "papermill": {
     "duration": 0.020448,
     "end_time": "2023-04-15T02:26:50.755122",
     "exception": false,
     "start_time": "2023-04-15T02:26:50.734674",
     "status": "completed"
    },
    "tags": []
   },
   "outputs": [],
   "source": [
    "def get_pred(logits):\n",
    "    probs = F.softmax(logits, dim=1)\n",
    "    return torch.argmax(probs, dim=1)"
   ]
  },
  {
   "cell_type": "code",
   "execution_count": 37,
   "id": "294eb67d",
   "metadata": {
    "execution": {
     "iopub.execute_input": "2023-04-15T02:26:50.781213Z",
     "iopub.status.busy": "2023-04-15T02:26:50.780954Z",
     "iopub.status.idle": "2023-04-15T02:26:50.787649Z",
     "shell.execute_reply": "2023-04-15T02:26:50.786656Z"
    },
    "papermill": {
     "duration": 0.022411,
     "end_time": "2023-04-15T02:26:50.789748",
     "exception": false,
     "start_time": "2023-04-15T02:26:50.767337",
     "status": "completed"
    },
    "tags": []
   },
   "outputs": [],
   "source": [
    "def submit_csv(model, tokenizer, test_data):\n",
    "    preds = np.zeros(len(test_data))\n",
    "    model.eval()\n",
    "    \n",
    "    for i, row in test_data.iterrows():\n",
    "        inputs = tokenizer(row.title, return_tensors=\"pt\")\n",
    "        model.to('cpu')\n",
    "        with torch.no_grad():\n",
    "            logits = model(**inputs).logits\n",
    "            preds[i] = get_pred(logits)\n",
    "        \n",
    "    csv_data = pd.DataFrame({\n",
    "        'id' : test_data.id.values,\n",
    "        'lib': preds.astype(int)\n",
    "    })\n",
    "        \n",
    "    csv_data.lib = csv_data.lib.map(lambda x : id_to_label[x])\n",
    "    path = os.path.join(os.getcwd(), \"submission.csv\")\n",
    "    csv_data.to_csv(path, index=False)\n",
    "    \n",
    "    print(\"Submission successful!\")\n",
    "    return csv_data"
   ]
  },
  {
   "cell_type": "code",
   "execution_count": 38,
   "id": "25a2803d",
   "metadata": {
    "execution": {
     "iopub.execute_input": "2023-04-15T02:26:50.817005Z",
     "iopub.status.busy": "2023-04-15T02:26:50.815537Z",
     "iopub.status.idle": "2023-04-15T02:26:50.826193Z",
     "shell.execute_reply": "2023-04-15T02:26:50.825315Z"
    },
    "papermill": {
     "duration": 0.026002,
     "end_time": "2023-04-15T02:26:50.828358",
     "exception": false,
     "start_time": "2023-04-15T02:26:50.802356",
     "status": "completed"
    },
    "tags": []
   },
   "outputs": [
    {
     "data": {
      "text/html": [
       "<div>\n",
       "<style scoped>\n",
       "    .dataframe tbody tr th:only-of-type {\n",
       "        vertical-align: middle;\n",
       "    }\n",
       "\n",
       "    .dataframe tbody tr th {\n",
       "        vertical-align: top;\n",
       "    }\n",
       "\n",
       "    .dataframe thead th {\n",
       "        text-align: right;\n",
       "    }\n",
       "</style>\n",
       "<table border=\"1\" class=\"dataframe\">\n",
       "  <thead>\n",
       "    <tr style=\"text-align: right;\">\n",
       "      <th></th>\n",
       "      <th>title</th>\n",
       "      <th>id</th>\n",
       "    </tr>\n",
       "  </thead>\n",
       "  <tbody>\n",
       "    <tr>\n",
       "      <th>0</th>\n",
       "      <td>cython: pass a 2D numpy array to cdef function</td>\n",
       "      <td>119056</td>\n",
       "    </tr>\n",
       "    <tr>\n",
       "      <th>1</th>\n",
       "      <td>What parameters need to be put in the code in ...</td>\n",
       "      <td>63881</td>\n",
       "    </tr>\n",
       "    <tr>\n",
       "      <th>2</th>\n",
       "      <td>Get a classification report stating the class ...</td>\n",
       "      <td>162795</td>\n",
       "    </tr>\n",
       "    <tr>\n",
       "      <th>3</th>\n",
       "      <td>How to interpolate and smooth data with step-l...</td>\n",
       "      <td>149951</td>\n",
       "    </tr>\n",
       "    <tr>\n",
       "      <th>4</th>\n",
       "      <td>Numpy: concatenate different dtypes whilst pre...</td>\n",
       "      <td>90130</td>\n",
       "    </tr>\n",
       "  </tbody>\n",
       "</table>\n",
       "</div>"
      ],
      "text/plain": [
       "                                               title      id\n",
       "0     cython: pass a 2D numpy array to cdef function  119056\n",
       "1  What parameters need to be put in the code in ...   63881\n",
       "2  Get a classification report stating the class ...  162795\n",
       "3  How to interpolate and smooth data with step-l...  149951\n",
       "4  Numpy: concatenate different dtypes whilst pre...   90130"
      ]
     },
     "execution_count": 38,
     "metadata": {},
     "output_type": "execute_result"
    }
   ],
   "source": [
    "test_data.head()"
   ]
  },
  {
   "cell_type": "code",
   "execution_count": 39,
   "id": "390fd95f",
   "metadata": {
    "execution": {
     "iopub.execute_input": "2023-04-15T02:26:50.856267Z",
     "iopub.status.busy": "2023-04-15T02:26:50.854833Z",
     "iopub.status.idle": "2023-04-15T02:58:08.005845Z",
     "shell.execute_reply": "2023-04-15T02:58:08.004802Z"
    },
    "papermill": {
     "duration": 1877.1782,
     "end_time": "2023-04-15T02:58:08.019564",
     "exception": false,
     "start_time": "2023-04-15T02:26:50.841364",
     "status": "completed"
    },
    "tags": []
   },
   "outputs": [
    {
     "name": "stdout",
     "output_type": "stream",
     "text": [
      "Submission successful!\n"
     ]
    },
    {
     "data": {
      "text/html": [
       "<div>\n",
       "<style scoped>\n",
       "    .dataframe tbody tr th:only-of-type {\n",
       "        vertical-align: middle;\n",
       "    }\n",
       "\n",
       "    .dataframe tbody tr th {\n",
       "        vertical-align: top;\n",
       "    }\n",
       "\n",
       "    .dataframe thead th {\n",
       "        text-align: right;\n",
       "    }\n",
       "</style>\n",
       "<table border=\"1\" class=\"dataframe\">\n",
       "  <thead>\n",
       "    <tr style=\"text-align: right;\">\n",
       "      <th></th>\n",
       "      <th>id</th>\n",
       "      <th>lib</th>\n",
       "    </tr>\n",
       "  </thead>\n",
       "  <tbody>\n",
       "    <tr>\n",
       "      <th>0</th>\n",
       "      <td>119056</td>\n",
       "      <td>numpy</td>\n",
       "    </tr>\n",
       "    <tr>\n",
       "      <th>1</th>\n",
       "      <td>63881</td>\n",
       "      <td>requests</td>\n",
       "    </tr>\n",
       "    <tr>\n",
       "      <th>2</th>\n",
       "      <td>162795</td>\n",
       "      <td>sklearn</td>\n",
       "    </tr>\n",
       "    <tr>\n",
       "      <th>3</th>\n",
       "      <td>149951</td>\n",
       "      <td>scipy</td>\n",
       "    </tr>\n",
       "    <tr>\n",
       "      <th>4</th>\n",
       "      <td>90130</td>\n",
       "      <td>numpy</td>\n",
       "    </tr>\n",
       "  </tbody>\n",
       "</table>\n",
       "</div>"
      ],
      "text/plain": [
       "       id       lib\n",
       "0  119056     numpy\n",
       "1   63881  requests\n",
       "2  162795   sklearn\n",
       "3  149951     scipy\n",
       "4   90130     numpy"
      ]
     },
     "execution_count": 39,
     "metadata": {},
     "output_type": "execute_result"
    }
   ],
   "source": [
    "submit = submit_csv(model, tokenizer, test_data)\n",
    "\n",
    "submit.head()"
   ]
  },
  {
   "cell_type": "code",
   "execution_count": null,
   "id": "5e0e75ef",
   "metadata": {
    "papermill": {
     "duration": 0.012496,
     "end_time": "2023-04-15T02:58:08.044939",
     "exception": false,
     "start_time": "2023-04-15T02:58:08.032443",
     "status": "completed"
    },
    "tags": []
   },
   "outputs": [],
   "source": []
  }
 ],
 "metadata": {
  "kernelspec": {
   "display_name": "Python 3",
   "language": "python",
   "name": "python3"
  },
  "language_info": {
   "codemirror_mode": {
    "name": "ipython",
    "version": 3
   },
   "file_extension": ".py",
   "mimetype": "text/x-python",
   "name": "python",
   "nbconvert_exporter": "python",
   "pygments_lexer": "ipython3",
   "version": "3.7.12"
  },
  "papermill": {
   "default_parameters": {},
   "duration": 6148.40426,
   "end_time": "2023-04-15T02:58:11.485105",
   "environment_variables": {},
   "exception": null,
   "input_path": "__notebook__.ipynb",
   "output_path": "__notebook__.ipynb",
   "parameters": {},
   "start_time": "2023-04-15T01:15:43.080845",
   "version": "2.4.0"
  },
  "widgets": {
   "application/vnd.jupyter.widget-state+json": {
    "state": {
     "030b60d272104253a715c47ba0b75d1d": {
      "model_module": "@jupyter-widgets/base",
      "model_module_version": "1.2.0",
      "model_name": "LayoutModel",
      "state": {
       "_model_module": "@jupyter-widgets/base",
       "_model_module_version": "1.2.0",
       "_model_name": "LayoutModel",
       "_view_count": null,
       "_view_module": "@jupyter-widgets/base",
       "_view_module_version": "1.2.0",
       "_view_name": "LayoutView",
       "align_content": null,
       "align_items": null,
       "align_self": null,
       "border": null,
       "bottom": null,
       "display": null,
       "flex": null,
       "flex_flow": null,
       "grid_area": null,
       "grid_auto_columns": null,
       "grid_auto_flow": null,
       "grid_auto_rows": null,
       "grid_column": null,
       "grid_gap": null,
       "grid_row": null,
       "grid_template_areas": null,
       "grid_template_columns": null,
       "grid_template_rows": null,
       "height": null,
       "justify_content": null,
       "justify_items": null,
       "left": null,
       "margin": null,
       "max_height": null,
       "max_width": null,
       "min_height": null,
       "min_width": null,
       "object_fit": null,
       "object_position": null,
       "order": null,
       "overflow": null,
       "overflow_x": null,
       "overflow_y": null,
       "padding": null,
       "right": null,
       "top": null,
       "visibility": null,
       "width": null
      }
     },
     "06f66990abb5412199aa6ee974f584df": {
      "model_module": "@jupyter-widgets/controls",
      "model_module_version": "1.5.0",
      "model_name": "HBoxModel",
      "state": {
       "_dom_classes": [],
       "_model_module": "@jupyter-widgets/controls",
       "_model_module_version": "1.5.0",
       "_model_name": "HBoxModel",
       "_view_count": null,
       "_view_module": "@jupyter-widgets/controls",
       "_view_module_version": "1.5.0",
       "_view_name": "HBoxView",
       "box_style": "",
       "children": [
        "IPY_MODEL_097463b5cbdd4a3ba0ac83e49ee51f80",
        "IPY_MODEL_66761218b4684387a9985181bc435b97",
        "IPY_MODEL_1d971574e8ad491a8823f0216dd83660"
       ],
       "layout": "IPY_MODEL_a677fc61715e4333991a02e50730372c"
      }
     },
     "0878d0ece17d49a98c87a6f439dcf4ce": {
      "model_module": "@jupyter-widgets/controls",
      "model_module_version": "1.5.0",
      "model_name": "DescriptionStyleModel",
      "state": {
       "_model_module": "@jupyter-widgets/controls",
       "_model_module_version": "1.5.0",
       "_model_name": "DescriptionStyleModel",
       "_view_count": null,
       "_view_module": "@jupyter-widgets/base",
       "_view_module_version": "1.2.0",
       "_view_name": "StyleView",
       "description_width": ""
      }
     },
     "097463b5cbdd4a3ba0ac83e49ee51f80": {
      "model_module": "@jupyter-widgets/controls",
      "model_module_version": "1.5.0",
      "model_name": "HTMLModel",
      "state": {
       "_dom_classes": [],
       "_model_module": "@jupyter-widgets/controls",
       "_model_module_version": "1.5.0",
       "_model_name": "HTMLModel",
       "_view_count": null,
       "_view_module": "@jupyter-widgets/controls",
       "_view_module_version": "1.5.0",
       "_view_name": "HTMLView",
       "description": "",
       "description_tooltip": null,
       "layout": "IPY_MODEL_4a939653c7614bf98362775395af74e3",
       "placeholder": "​",
       "style": "IPY_MODEL_d1e28add38774c40bd7b383d3d9df34b",
       "value": "Downloading (…)solve/main/vocab.txt: 100%"
      }
     },
     "0ccbb930a94e4f55b1141a395a524f9a": {
      "model_module": "@jupyter-widgets/controls",
      "model_module_version": "1.5.0",
      "model_name": "HBoxModel",
      "state": {
       "_dom_classes": [],
       "_model_module": "@jupyter-widgets/controls",
       "_model_module_version": "1.5.0",
       "_model_name": "HBoxModel",
       "_view_count": null,
       "_view_module": "@jupyter-widgets/controls",
       "_view_module_version": "1.5.0",
       "_view_name": "HBoxView",
       "box_style": "",
       "children": [
        "IPY_MODEL_2a1fbf488c294fd3841c2157900d459d",
        "IPY_MODEL_e19f403cbbdc48b9b60f48894fad44cc",
        "IPY_MODEL_21034dadd3e540518a29ed2fbaf2e9ee"
       ],
       "layout": "IPY_MODEL_e3eaa85d468049839fb1d42524d5c227"
      }
     },
     "1d971574e8ad491a8823f0216dd83660": {
      "model_module": "@jupyter-widgets/controls",
      "model_module_version": "1.5.0",
      "model_name": "HTMLModel",
      "state": {
       "_dom_classes": [],
       "_model_module": "@jupyter-widgets/controls",
       "_model_module_version": "1.5.0",
       "_model_name": "HTMLModel",
       "_view_count": null,
       "_view_module": "@jupyter-widgets/controls",
       "_view_module_version": "1.5.0",
       "_view_name": "HTMLView",
       "description": "",
       "description_tooltip": null,
       "layout": "IPY_MODEL_da98bd47ad194f2e917c324a48ba463b",
       "placeholder": "​",
       "style": "IPY_MODEL_b056be0b9d2a40219c179a59f9a6eb37",
       "value": " 232k/232k [00:00&lt;00:00, 6.72MB/s]"
      }
     },
     "21034dadd3e540518a29ed2fbaf2e9ee": {
      "model_module": "@jupyter-widgets/controls",
      "model_module_version": "1.5.0",
      "model_name": "HTMLModel",
      "state": {
       "_dom_classes": [],
       "_model_module": "@jupyter-widgets/controls",
       "_model_module_version": "1.5.0",
       "_model_name": "HTMLModel",
       "_view_count": null,
       "_view_module": "@jupyter-widgets/controls",
       "_view_module_version": "1.5.0",
       "_view_name": "HTMLView",
       "description": "",
       "description_tooltip": null,
       "layout": "IPY_MODEL_6484bab376984f47935999afc5807bf8",
       "placeholder": "​",
       "style": "IPY_MODEL_a556211af686452e814ae9fb486f49bf",
       "value": " 268M/268M [00:00&lt;00:00, 384MB/s]"
      }
     },
     "251364a36f2b4ec995f9d6ae792b1f36": {
      "model_module": "@jupyter-widgets/controls",
      "model_module_version": "1.5.0",
      "model_name": "FloatProgressModel",
      "state": {
       "_dom_classes": [],
       "_model_module": "@jupyter-widgets/controls",
       "_model_module_version": "1.5.0",
       "_model_name": "FloatProgressModel",
       "_view_count": null,
       "_view_module": "@jupyter-widgets/controls",
       "_view_module_version": "1.5.0",
       "_view_name": "ProgressView",
       "bar_style": "success",
       "description": "",
       "description_tooltip": null,
       "layout": "IPY_MODEL_e795405da5374896a7a52dfbf421f1d9",
       "max": 483.0,
       "min": 0.0,
       "orientation": "horizontal",
       "style": "IPY_MODEL_fb38c69fec0d46cd9e0a6ab33f408026",
       "value": 483.0
      }
     },
     "2a1fbf488c294fd3841c2157900d459d": {
      "model_module": "@jupyter-widgets/controls",
      "model_module_version": "1.5.0",
      "model_name": "HTMLModel",
      "state": {
       "_dom_classes": [],
       "_model_module": "@jupyter-widgets/controls",
       "_model_module_version": "1.5.0",
       "_model_name": "HTMLModel",
       "_view_count": null,
       "_view_module": "@jupyter-widgets/controls",
       "_view_module_version": "1.5.0",
       "_view_name": "HTMLView",
       "description": "",
       "description_tooltip": null,
       "layout": "IPY_MODEL_f703c9b76bd04c048be070eabc1897b0",
       "placeholder": "​",
       "style": "IPY_MODEL_4bff5694457040bdb43c2fad6f65484e",
       "value": "Downloading pytorch_model.bin: 100%"
      }
     },
     "2aa28c0b36144587966c378550e83f9c": {
      "model_module": "@jupyter-widgets/controls",
      "model_module_version": "1.5.0",
      "model_name": "DescriptionStyleModel",
      "state": {
       "_model_module": "@jupyter-widgets/controls",
       "_model_module_version": "1.5.0",
       "_model_name": "DescriptionStyleModel",
       "_view_count": null,
       "_view_module": "@jupyter-widgets/base",
       "_view_module_version": "1.2.0",
       "_view_name": "StyleView",
       "description_width": ""
      }
     },
     "2ee5b9143bfa462e9e2184c109564f44": {
      "model_module": "@jupyter-widgets/controls",
      "model_module_version": "1.5.0",
      "model_name": "HTMLModel",
      "state": {
       "_dom_classes": [],
       "_model_module": "@jupyter-widgets/controls",
       "_model_module_version": "1.5.0",
       "_model_name": "HTMLModel",
       "_view_count": null,
       "_view_module": "@jupyter-widgets/controls",
       "_view_module_version": "1.5.0",
       "_view_name": "HTMLView",
       "description": "",
       "description_tooltip": null,
       "layout": "IPY_MODEL_ff709dd367f341f78bde4172e9878955",
       "placeholder": "​",
       "style": "IPY_MODEL_b2e73db824dd41bb8cf74111b34fcea0",
       "value": " 28.0/28.0 [00:00&lt;00:00, 1.33kB/s]"
      }
     },
     "3bd6c51e94d04804a40c68b213be919a": {
      "model_module": "@jupyter-widgets/base",
      "model_module_version": "1.2.0",
      "model_name": "LayoutModel",
      "state": {
       "_model_module": "@jupyter-widgets/base",
       "_model_module_version": "1.2.0",
       "_model_name": "LayoutModel",
       "_view_count": null,
       "_view_module": "@jupyter-widgets/base",
       "_view_module_version": "1.2.0",
       "_view_name": "LayoutView",
       "align_content": null,
       "align_items": null,
       "align_self": null,
       "border": null,
       "bottom": null,
       "display": null,
       "flex": null,
       "flex_flow": null,
       "grid_area": null,
       "grid_auto_columns": null,
       "grid_auto_flow": null,
       "grid_auto_rows": null,
       "grid_column": null,
       "grid_gap": null,
       "grid_row": null,
       "grid_template_areas": null,
       "grid_template_columns": null,
       "grid_template_rows": null,
       "height": null,
       "justify_content": null,
       "justify_items": null,
       "left": null,
       "margin": null,
       "max_height": null,
       "max_width": null,
       "min_height": null,
       "min_width": null,
       "object_fit": null,
       "object_position": null,
       "order": null,
       "overflow": null,
       "overflow_x": null,
       "overflow_y": null,
       "padding": null,
       "right": null,
       "top": null,
       "visibility": null,
       "width": null
      }
     },
     "401d5543d42744cc8c60759ada848957": {
      "model_module": "@jupyter-widgets/controls",
      "model_module_version": "1.5.0",
      "model_name": "ProgressStyleModel",
      "state": {
       "_model_module": "@jupyter-widgets/controls",
       "_model_module_version": "1.5.0",
       "_model_name": "ProgressStyleModel",
       "_view_count": null,
       "_view_module": "@jupyter-widgets/base",
       "_view_module_version": "1.2.0",
       "_view_name": "StyleView",
       "bar_color": null,
       "description_width": ""
      }
     },
     "4536f525a54c45c399f4d8b8ff025991": {
      "model_module": "@jupyter-widgets/controls",
      "model_module_version": "1.5.0",
      "model_name": "HTMLModel",
      "state": {
       "_dom_classes": [],
       "_model_module": "@jupyter-widgets/controls",
       "_model_module_version": "1.5.0",
       "_model_name": "HTMLModel",
       "_view_count": null,
       "_view_module": "@jupyter-widgets/controls",
       "_view_module_version": "1.5.0",
       "_view_name": "HTMLView",
       "description": "",
       "description_tooltip": null,
       "layout": "IPY_MODEL_d86a316b183f4a0281808ade42ae92ef",
       "placeholder": "​",
       "style": "IPY_MODEL_2aa28c0b36144587966c378550e83f9c",
       "value": "Downloading (…)lve/main/config.json: 100%"
      }
     },
     "4a939653c7614bf98362775395af74e3": {
      "model_module": "@jupyter-widgets/base",
      "model_module_version": "1.2.0",
      "model_name": "LayoutModel",
      "state": {
       "_model_module": "@jupyter-widgets/base",
       "_model_module_version": "1.2.0",
       "_model_name": "LayoutModel",
       "_view_count": null,
       "_view_module": "@jupyter-widgets/base",
       "_view_module_version": "1.2.0",
       "_view_name": "LayoutView",
       "align_content": null,
       "align_items": null,
       "align_self": null,
       "border": null,
       "bottom": null,
       "display": null,
       "flex": null,
       "flex_flow": null,
       "grid_area": null,
       "grid_auto_columns": null,
       "grid_auto_flow": null,
       "grid_auto_rows": null,
       "grid_column": null,
       "grid_gap": null,
       "grid_row": null,
       "grid_template_areas": null,
       "grid_template_columns": null,
       "grid_template_rows": null,
       "height": null,
       "justify_content": null,
       "justify_items": null,
       "left": null,
       "margin": null,
       "max_height": null,
       "max_width": null,
       "min_height": null,
       "min_width": null,
       "object_fit": null,
       "object_position": null,
       "order": null,
       "overflow": null,
       "overflow_x": null,
       "overflow_y": null,
       "padding": null,
       "right": null,
       "top": null,
       "visibility": null,
       "width": null
      }
     },
     "4bff5694457040bdb43c2fad6f65484e": {
      "model_module": "@jupyter-widgets/controls",
      "model_module_version": "1.5.0",
      "model_name": "DescriptionStyleModel",
      "state": {
       "_model_module": "@jupyter-widgets/controls",
       "_model_module_version": "1.5.0",
       "_model_name": "DescriptionStyleModel",
       "_view_count": null,
       "_view_module": "@jupyter-widgets/base",
       "_view_module_version": "1.2.0",
       "_view_name": "StyleView",
       "description_width": ""
      }
     },
     "539f6ec94bad4cfe95783fa39b92c9eb": {
      "model_module": "@jupyter-widgets/base",
      "model_module_version": "1.2.0",
      "model_name": "LayoutModel",
      "state": {
       "_model_module": "@jupyter-widgets/base",
       "_model_module_version": "1.2.0",
       "_model_name": "LayoutModel",
       "_view_count": null,
       "_view_module": "@jupyter-widgets/base",
       "_view_module_version": "1.2.0",
       "_view_name": "LayoutView",
       "align_content": null,
       "align_items": null,
       "align_self": null,
       "border": null,
       "bottom": null,
       "display": null,
       "flex": null,
       "flex_flow": null,
       "grid_area": null,
       "grid_auto_columns": null,
       "grid_auto_flow": null,
       "grid_auto_rows": null,
       "grid_column": null,
       "grid_gap": null,
       "grid_row": null,
       "grid_template_areas": null,
       "grid_template_columns": null,
       "grid_template_rows": null,
       "height": null,
       "justify_content": null,
       "justify_items": null,
       "left": null,
       "margin": null,
       "max_height": null,
       "max_width": null,
       "min_height": null,
       "min_width": null,
       "object_fit": null,
       "object_position": null,
       "order": null,
       "overflow": null,
       "overflow_x": null,
       "overflow_y": null,
       "padding": null,
       "right": null,
       "top": null,
       "visibility": null,
       "width": null
      }
     },
     "6484bab376984f47935999afc5807bf8": {
      "model_module": "@jupyter-widgets/base",
      "model_module_version": "1.2.0",
      "model_name": "LayoutModel",
      "state": {
       "_model_module": "@jupyter-widgets/base",
       "_model_module_version": "1.2.0",
       "_model_name": "LayoutModel",
       "_view_count": null,
       "_view_module": "@jupyter-widgets/base",
       "_view_module_version": "1.2.0",
       "_view_name": "LayoutView",
       "align_content": null,
       "align_items": null,
       "align_self": null,
       "border": null,
       "bottom": null,
       "display": null,
       "flex": null,
       "flex_flow": null,
       "grid_area": null,
       "grid_auto_columns": null,
       "grid_auto_flow": null,
       "grid_auto_rows": null,
       "grid_column": null,
       "grid_gap": null,
       "grid_row": null,
       "grid_template_areas": null,
       "grid_template_columns": null,
       "grid_template_rows": null,
       "height": null,
       "justify_content": null,
       "justify_items": null,
       "left": null,
       "margin": null,
       "max_height": null,
       "max_width": null,
       "min_height": null,
       "min_width": null,
       "object_fit": null,
       "object_position": null,
       "order": null,
       "overflow": null,
       "overflow_x": null,
       "overflow_y": null,
       "padding": null,
       "right": null,
       "top": null,
       "visibility": null,
       "width": null
      }
     },
     "66761218b4684387a9985181bc435b97": {
      "model_module": "@jupyter-widgets/controls",
      "model_module_version": "1.5.0",
      "model_name": "FloatProgressModel",
      "state": {
       "_dom_classes": [],
       "_model_module": "@jupyter-widgets/controls",
       "_model_module_version": "1.5.0",
       "_model_name": "FloatProgressModel",
       "_view_count": null,
       "_view_module": "@jupyter-widgets/controls",
       "_view_module_version": "1.5.0",
       "_view_name": "ProgressView",
       "bar_style": "success",
       "description": "",
       "description_tooltip": null,
       "layout": "IPY_MODEL_3bd6c51e94d04804a40c68b213be919a",
       "max": 231508.0,
       "min": 0.0,
       "orientation": "horizontal",
       "style": "IPY_MODEL_690262d7ed514a2fb66e5f680c4641ef",
       "value": 231508.0
      }
     },
     "67e2441bed7f4fe3b45271f8c0cff189": {
      "model_module": "@jupyter-widgets/base",
      "model_module_version": "1.2.0",
      "model_name": "LayoutModel",
      "state": {
       "_model_module": "@jupyter-widgets/base",
       "_model_module_version": "1.2.0",
       "_model_name": "LayoutModel",
       "_view_count": null,
       "_view_module": "@jupyter-widgets/base",
       "_view_module_version": "1.2.0",
       "_view_name": "LayoutView",
       "align_content": null,
       "align_items": null,
       "align_self": null,
       "border": null,
       "bottom": null,
       "display": null,
       "flex": null,
       "flex_flow": null,
       "grid_area": null,
       "grid_auto_columns": null,
       "grid_auto_flow": null,
       "grid_auto_rows": null,
       "grid_column": null,
       "grid_gap": null,
       "grid_row": null,
       "grid_template_areas": null,
       "grid_template_columns": null,
       "grid_template_rows": null,
       "height": null,
       "justify_content": null,
       "justify_items": null,
       "left": null,
       "margin": null,
       "max_height": null,
       "max_width": null,
       "min_height": null,
       "min_width": null,
       "object_fit": null,
       "object_position": null,
       "order": null,
       "overflow": null,
       "overflow_x": null,
       "overflow_y": null,
       "padding": null,
       "right": null,
       "top": null,
       "visibility": null,
       "width": null
      }
     },
     "690262d7ed514a2fb66e5f680c4641ef": {
      "model_module": "@jupyter-widgets/controls",
      "model_module_version": "1.5.0",
      "model_name": "ProgressStyleModel",
      "state": {
       "_model_module": "@jupyter-widgets/controls",
       "_model_module_version": "1.5.0",
       "_model_name": "ProgressStyleModel",
       "_view_count": null,
       "_view_module": "@jupyter-widgets/base",
       "_view_module_version": "1.2.0",
       "_view_name": "StyleView",
       "bar_color": null,
       "description_width": ""
      }
     },
     "832f91eab91f4618beaa068f952ed8cc": {
      "model_module": "@jupyter-widgets/controls",
      "model_module_version": "1.5.0",
      "model_name": "HTMLModel",
      "state": {
       "_dom_classes": [],
       "_model_module": "@jupyter-widgets/controls",
       "_model_module_version": "1.5.0",
       "_model_name": "HTMLModel",
       "_view_count": null,
       "_view_module": "@jupyter-widgets/controls",
       "_view_module_version": "1.5.0",
       "_view_name": "HTMLView",
       "description": "",
       "description_tooltip": null,
       "layout": "IPY_MODEL_a1dc9058422a4d5f99e78128bb038b49",
       "placeholder": "​",
       "style": "IPY_MODEL_0878d0ece17d49a98c87a6f439dcf4ce",
       "value": " 483/483 [00:00&lt;00:00, 31.1kB/s]"
      }
     },
     "8f46a89a33fd4ffdb979d4639a9a08c6": {
      "model_module": "@jupyter-widgets/controls",
      "model_module_version": "1.5.0",
      "model_name": "HTMLModel",
      "state": {
       "_dom_classes": [],
       "_model_module": "@jupyter-widgets/controls",
       "_model_module_version": "1.5.0",
       "_model_name": "HTMLModel",
       "_view_count": null,
       "_view_module": "@jupyter-widgets/controls",
       "_view_module_version": "1.5.0",
       "_view_name": "HTMLView",
       "description": "",
       "description_tooltip": null,
       "layout": "IPY_MODEL_539f6ec94bad4cfe95783fa39b92c9eb",
       "placeholder": "​",
       "style": "IPY_MODEL_9c2da243f3b4460180e9a15eb73f5e0e",
       "value": "Downloading (…)okenizer_config.json: 100%"
      }
     },
     "9b0cb4c78305401696e41ad3702f0247": {
      "model_module": "@jupyter-widgets/controls",
      "model_module_version": "1.5.0",
      "model_name": "HBoxModel",
      "state": {
       "_dom_classes": [],
       "_model_module": "@jupyter-widgets/controls",
       "_model_module_version": "1.5.0",
       "_model_name": "HBoxModel",
       "_view_count": null,
       "_view_module": "@jupyter-widgets/controls",
       "_view_module_version": "1.5.0",
       "_view_name": "HBoxView",
       "box_style": "",
       "children": [
        "IPY_MODEL_4536f525a54c45c399f4d8b8ff025991",
        "IPY_MODEL_251364a36f2b4ec995f9d6ae792b1f36",
        "IPY_MODEL_832f91eab91f4618beaa068f952ed8cc"
       ],
       "layout": "IPY_MODEL_030b60d272104253a715c47ba0b75d1d"
      }
     },
     "9c2da243f3b4460180e9a15eb73f5e0e": {
      "model_module": "@jupyter-widgets/controls",
      "model_module_version": "1.5.0",
      "model_name": "DescriptionStyleModel",
      "state": {
       "_model_module": "@jupyter-widgets/controls",
       "_model_module_version": "1.5.0",
       "_model_name": "DescriptionStyleModel",
       "_view_count": null,
       "_view_module": "@jupyter-widgets/base",
       "_view_module_version": "1.2.0",
       "_view_name": "StyleView",
       "description_width": ""
      }
     },
     "a1dc9058422a4d5f99e78128bb038b49": {
      "model_module": "@jupyter-widgets/base",
      "model_module_version": "1.2.0",
      "model_name": "LayoutModel",
      "state": {
       "_model_module": "@jupyter-widgets/base",
       "_model_module_version": "1.2.0",
       "_model_name": "LayoutModel",
       "_view_count": null,
       "_view_module": "@jupyter-widgets/base",
       "_view_module_version": "1.2.0",
       "_view_name": "LayoutView",
       "align_content": null,
       "align_items": null,
       "align_self": null,
       "border": null,
       "bottom": null,
       "display": null,
       "flex": null,
       "flex_flow": null,
       "grid_area": null,
       "grid_auto_columns": null,
       "grid_auto_flow": null,
       "grid_auto_rows": null,
       "grid_column": null,
       "grid_gap": null,
       "grid_row": null,
       "grid_template_areas": null,
       "grid_template_columns": null,
       "grid_template_rows": null,
       "height": null,
       "justify_content": null,
       "justify_items": null,
       "left": null,
       "margin": null,
       "max_height": null,
       "max_width": null,
       "min_height": null,
       "min_width": null,
       "object_fit": null,
       "object_position": null,
       "order": null,
       "overflow": null,
       "overflow_x": null,
       "overflow_y": null,
       "padding": null,
       "right": null,
       "top": null,
       "visibility": null,
       "width": null
      }
     },
     "a556211af686452e814ae9fb486f49bf": {
      "model_module": "@jupyter-widgets/controls",
      "model_module_version": "1.5.0",
      "model_name": "DescriptionStyleModel",
      "state": {
       "_model_module": "@jupyter-widgets/controls",
       "_model_module_version": "1.5.0",
       "_model_name": "DescriptionStyleModel",
       "_view_count": null,
       "_view_module": "@jupyter-widgets/base",
       "_view_module_version": "1.2.0",
       "_view_name": "StyleView",
       "description_width": ""
      }
     },
     "a677fc61715e4333991a02e50730372c": {
      "model_module": "@jupyter-widgets/base",
      "model_module_version": "1.2.0",
      "model_name": "LayoutModel",
      "state": {
       "_model_module": "@jupyter-widgets/base",
       "_model_module_version": "1.2.0",
       "_model_name": "LayoutModel",
       "_view_count": null,
       "_view_module": "@jupyter-widgets/base",
       "_view_module_version": "1.2.0",
       "_view_name": "LayoutView",
       "align_content": null,
       "align_items": null,
       "align_self": null,
       "border": null,
       "bottom": null,
       "display": null,
       "flex": null,
       "flex_flow": null,
       "grid_area": null,
       "grid_auto_columns": null,
       "grid_auto_flow": null,
       "grid_auto_rows": null,
       "grid_column": null,
       "grid_gap": null,
       "grid_row": null,
       "grid_template_areas": null,
       "grid_template_columns": null,
       "grid_template_rows": null,
       "height": null,
       "justify_content": null,
       "justify_items": null,
       "left": null,
       "margin": null,
       "max_height": null,
       "max_width": null,
       "min_height": null,
       "min_width": null,
       "object_fit": null,
       "object_position": null,
       "order": null,
       "overflow": null,
       "overflow_x": null,
       "overflow_y": null,
       "padding": null,
       "right": null,
       "top": null,
       "visibility": null,
       "width": null
      }
     },
     "a98e501ca5ae49c0a57405ab1e1363c4": {
      "model_module": "@jupyter-widgets/controls",
      "model_module_version": "1.5.0",
      "model_name": "FloatProgressModel",
      "state": {
       "_dom_classes": [],
       "_model_module": "@jupyter-widgets/controls",
       "_model_module_version": "1.5.0",
       "_model_name": "FloatProgressModel",
       "_view_count": null,
       "_view_module": "@jupyter-widgets/controls",
       "_view_module_version": "1.5.0",
       "_view_name": "ProgressView",
       "bar_style": "success",
       "description": "",
       "description_tooltip": null,
       "layout": "IPY_MODEL_da17e0c1728a490ba16219e91564278c",
       "max": 28.0,
       "min": 0.0,
       "orientation": "horizontal",
       "style": "IPY_MODEL_c2ffef2ede174228bc601a4abb747d9e",
       "value": 28.0
      }
     },
     "b056be0b9d2a40219c179a59f9a6eb37": {
      "model_module": "@jupyter-widgets/controls",
      "model_module_version": "1.5.0",
      "model_name": "DescriptionStyleModel",
      "state": {
       "_model_module": "@jupyter-widgets/controls",
       "_model_module_version": "1.5.0",
       "_model_name": "DescriptionStyleModel",
       "_view_count": null,
       "_view_module": "@jupyter-widgets/base",
       "_view_module_version": "1.2.0",
       "_view_name": "StyleView",
       "description_width": ""
      }
     },
     "b2e73db824dd41bb8cf74111b34fcea0": {
      "model_module": "@jupyter-widgets/controls",
      "model_module_version": "1.5.0",
      "model_name": "DescriptionStyleModel",
      "state": {
       "_model_module": "@jupyter-widgets/controls",
       "_model_module_version": "1.5.0",
       "_model_name": "DescriptionStyleModel",
       "_view_count": null,
       "_view_module": "@jupyter-widgets/base",
       "_view_module_version": "1.2.0",
       "_view_name": "StyleView",
       "description_width": ""
      }
     },
     "c2ffef2ede174228bc601a4abb747d9e": {
      "model_module": "@jupyter-widgets/controls",
      "model_module_version": "1.5.0",
      "model_name": "ProgressStyleModel",
      "state": {
       "_model_module": "@jupyter-widgets/controls",
       "_model_module_version": "1.5.0",
       "_model_name": "ProgressStyleModel",
       "_view_count": null,
       "_view_module": "@jupyter-widgets/base",
       "_view_module_version": "1.2.0",
       "_view_name": "StyleView",
       "bar_color": null,
       "description_width": ""
      }
     },
     "cde37626e9d942419c4b9d04340470ef": {
      "model_module": "@jupyter-widgets/base",
      "model_module_version": "1.2.0",
      "model_name": "LayoutModel",
      "state": {
       "_model_module": "@jupyter-widgets/base",
       "_model_module_version": "1.2.0",
       "_model_name": "LayoutModel",
       "_view_count": null,
       "_view_module": "@jupyter-widgets/base",
       "_view_module_version": "1.2.0",
       "_view_name": "LayoutView",
       "align_content": null,
       "align_items": null,
       "align_self": null,
       "border": null,
       "bottom": null,
       "display": null,
       "flex": null,
       "flex_flow": null,
       "grid_area": null,
       "grid_auto_columns": null,
       "grid_auto_flow": null,
       "grid_auto_rows": null,
       "grid_column": null,
       "grid_gap": null,
       "grid_row": null,
       "grid_template_areas": null,
       "grid_template_columns": null,
       "grid_template_rows": null,
       "height": null,
       "justify_content": null,
       "justify_items": null,
       "left": null,
       "margin": null,
       "max_height": null,
       "max_width": null,
       "min_height": null,
       "min_width": null,
       "object_fit": null,
       "object_position": null,
       "order": null,
       "overflow": null,
       "overflow_x": null,
       "overflow_y": null,
       "padding": null,
       "right": null,
       "top": null,
       "visibility": null,
       "width": null
      }
     },
     "d1e28add38774c40bd7b383d3d9df34b": {
      "model_module": "@jupyter-widgets/controls",
      "model_module_version": "1.5.0",
      "model_name": "DescriptionStyleModel",
      "state": {
       "_model_module": "@jupyter-widgets/controls",
       "_model_module_version": "1.5.0",
       "_model_name": "DescriptionStyleModel",
       "_view_count": null,
       "_view_module": "@jupyter-widgets/base",
       "_view_module_version": "1.2.0",
       "_view_name": "StyleView",
       "description_width": ""
      }
     },
     "d72a56cc4e4d4e75b6c80297c08744fc": {
      "model_module": "@jupyter-widgets/controls",
      "model_module_version": "1.5.0",
      "model_name": "HBoxModel",
      "state": {
       "_dom_classes": [],
       "_model_module": "@jupyter-widgets/controls",
       "_model_module_version": "1.5.0",
       "_model_name": "HBoxModel",
       "_view_count": null,
       "_view_module": "@jupyter-widgets/controls",
       "_view_module_version": "1.5.0",
       "_view_name": "HBoxView",
       "box_style": "",
       "children": [
        "IPY_MODEL_8f46a89a33fd4ffdb979d4639a9a08c6",
        "IPY_MODEL_a98e501ca5ae49c0a57405ab1e1363c4",
        "IPY_MODEL_2ee5b9143bfa462e9e2184c109564f44"
       ],
       "layout": "IPY_MODEL_67e2441bed7f4fe3b45271f8c0cff189"
      }
     },
     "d86a316b183f4a0281808ade42ae92ef": {
      "model_module": "@jupyter-widgets/base",
      "model_module_version": "1.2.0",
      "model_name": "LayoutModel",
      "state": {
       "_model_module": "@jupyter-widgets/base",
       "_model_module_version": "1.2.0",
       "_model_name": "LayoutModel",
       "_view_count": null,
       "_view_module": "@jupyter-widgets/base",
       "_view_module_version": "1.2.0",
       "_view_name": "LayoutView",
       "align_content": null,
       "align_items": null,
       "align_self": null,
       "border": null,
       "bottom": null,
       "display": null,
       "flex": null,
       "flex_flow": null,
       "grid_area": null,
       "grid_auto_columns": null,
       "grid_auto_flow": null,
       "grid_auto_rows": null,
       "grid_column": null,
       "grid_gap": null,
       "grid_row": null,
       "grid_template_areas": null,
       "grid_template_columns": null,
       "grid_template_rows": null,
       "height": null,
       "justify_content": null,
       "justify_items": null,
       "left": null,
       "margin": null,
       "max_height": null,
       "max_width": null,
       "min_height": null,
       "min_width": null,
       "object_fit": null,
       "object_position": null,
       "order": null,
       "overflow": null,
       "overflow_x": null,
       "overflow_y": null,
       "padding": null,
       "right": null,
       "top": null,
       "visibility": null,
       "width": null
      }
     },
     "da17e0c1728a490ba16219e91564278c": {
      "model_module": "@jupyter-widgets/base",
      "model_module_version": "1.2.0",
      "model_name": "LayoutModel",
      "state": {
       "_model_module": "@jupyter-widgets/base",
       "_model_module_version": "1.2.0",
       "_model_name": "LayoutModel",
       "_view_count": null,
       "_view_module": "@jupyter-widgets/base",
       "_view_module_version": "1.2.0",
       "_view_name": "LayoutView",
       "align_content": null,
       "align_items": null,
       "align_self": null,
       "border": null,
       "bottom": null,
       "display": null,
       "flex": null,
       "flex_flow": null,
       "grid_area": null,
       "grid_auto_columns": null,
       "grid_auto_flow": null,
       "grid_auto_rows": null,
       "grid_column": null,
       "grid_gap": null,
       "grid_row": null,
       "grid_template_areas": null,
       "grid_template_columns": null,
       "grid_template_rows": null,
       "height": null,
       "justify_content": null,
       "justify_items": null,
       "left": null,
       "margin": null,
       "max_height": null,
       "max_width": null,
       "min_height": null,
       "min_width": null,
       "object_fit": null,
       "object_position": null,
       "order": null,
       "overflow": null,
       "overflow_x": null,
       "overflow_y": null,
       "padding": null,
       "right": null,
       "top": null,
       "visibility": null,
       "width": null
      }
     },
     "da98bd47ad194f2e917c324a48ba463b": {
      "model_module": "@jupyter-widgets/base",
      "model_module_version": "1.2.0",
      "model_name": "LayoutModel",
      "state": {
       "_model_module": "@jupyter-widgets/base",
       "_model_module_version": "1.2.0",
       "_model_name": "LayoutModel",
       "_view_count": null,
       "_view_module": "@jupyter-widgets/base",
       "_view_module_version": "1.2.0",
       "_view_name": "LayoutView",
       "align_content": null,
       "align_items": null,
       "align_self": null,
       "border": null,
       "bottom": null,
       "display": null,
       "flex": null,
       "flex_flow": null,
       "grid_area": null,
       "grid_auto_columns": null,
       "grid_auto_flow": null,
       "grid_auto_rows": null,
       "grid_column": null,
       "grid_gap": null,
       "grid_row": null,
       "grid_template_areas": null,
       "grid_template_columns": null,
       "grid_template_rows": null,
       "height": null,
       "justify_content": null,
       "justify_items": null,
       "left": null,
       "margin": null,
       "max_height": null,
       "max_width": null,
       "min_height": null,
       "min_width": null,
       "object_fit": null,
       "object_position": null,
       "order": null,
       "overflow": null,
       "overflow_x": null,
       "overflow_y": null,
       "padding": null,
       "right": null,
       "top": null,
       "visibility": null,
       "width": null
      }
     },
     "e19f403cbbdc48b9b60f48894fad44cc": {
      "model_module": "@jupyter-widgets/controls",
      "model_module_version": "1.5.0",
      "model_name": "FloatProgressModel",
      "state": {
       "_dom_classes": [],
       "_model_module": "@jupyter-widgets/controls",
       "_model_module_version": "1.5.0",
       "_model_name": "FloatProgressModel",
       "_view_count": null,
       "_view_module": "@jupyter-widgets/controls",
       "_view_module_version": "1.5.0",
       "_view_name": "ProgressView",
       "bar_style": "success",
       "description": "",
       "description_tooltip": null,
       "layout": "IPY_MODEL_cde37626e9d942419c4b9d04340470ef",
       "max": 267967963.0,
       "min": 0.0,
       "orientation": "horizontal",
       "style": "IPY_MODEL_401d5543d42744cc8c60759ada848957",
       "value": 267967963.0
      }
     },
     "e3eaa85d468049839fb1d42524d5c227": {
      "model_module": "@jupyter-widgets/base",
      "model_module_version": "1.2.0",
      "model_name": "LayoutModel",
      "state": {
       "_model_module": "@jupyter-widgets/base",
       "_model_module_version": "1.2.0",
       "_model_name": "LayoutModel",
       "_view_count": null,
       "_view_module": "@jupyter-widgets/base",
       "_view_module_version": "1.2.0",
       "_view_name": "LayoutView",
       "align_content": null,
       "align_items": null,
       "align_self": null,
       "border": null,
       "bottom": null,
       "display": null,
       "flex": null,
       "flex_flow": null,
       "grid_area": null,
       "grid_auto_columns": null,
       "grid_auto_flow": null,
       "grid_auto_rows": null,
       "grid_column": null,
       "grid_gap": null,
       "grid_row": null,
       "grid_template_areas": null,
       "grid_template_columns": null,
       "grid_template_rows": null,
       "height": null,
       "justify_content": null,
       "justify_items": null,
       "left": null,
       "margin": null,
       "max_height": null,
       "max_width": null,
       "min_height": null,
       "min_width": null,
       "object_fit": null,
       "object_position": null,
       "order": null,
       "overflow": null,
       "overflow_x": null,
       "overflow_y": null,
       "padding": null,
       "right": null,
       "top": null,
       "visibility": null,
       "width": null
      }
     },
     "e795405da5374896a7a52dfbf421f1d9": {
      "model_module": "@jupyter-widgets/base",
      "model_module_version": "1.2.0",
      "model_name": "LayoutModel",
      "state": {
       "_model_module": "@jupyter-widgets/base",
       "_model_module_version": "1.2.0",
       "_model_name": "LayoutModel",
       "_view_count": null,
       "_view_module": "@jupyter-widgets/base",
       "_view_module_version": "1.2.0",
       "_view_name": "LayoutView",
       "align_content": null,
       "align_items": null,
       "align_self": null,
       "border": null,
       "bottom": null,
       "display": null,
       "flex": null,
       "flex_flow": null,
       "grid_area": null,
       "grid_auto_columns": null,
       "grid_auto_flow": null,
       "grid_auto_rows": null,
       "grid_column": null,
       "grid_gap": null,
       "grid_row": null,
       "grid_template_areas": null,
       "grid_template_columns": null,
       "grid_template_rows": null,
       "height": null,
       "justify_content": null,
       "justify_items": null,
       "left": null,
       "margin": null,
       "max_height": null,
       "max_width": null,
       "min_height": null,
       "min_width": null,
       "object_fit": null,
       "object_position": null,
       "order": null,
       "overflow": null,
       "overflow_x": null,
       "overflow_y": null,
       "padding": null,
       "right": null,
       "top": null,
       "visibility": null,
       "width": null
      }
     },
     "f703c9b76bd04c048be070eabc1897b0": {
      "model_module": "@jupyter-widgets/base",
      "model_module_version": "1.2.0",
      "model_name": "LayoutModel",
      "state": {
       "_model_module": "@jupyter-widgets/base",
       "_model_module_version": "1.2.0",
       "_model_name": "LayoutModel",
       "_view_count": null,
       "_view_module": "@jupyter-widgets/base",
       "_view_module_version": "1.2.0",
       "_view_name": "LayoutView",
       "align_content": null,
       "align_items": null,
       "align_self": null,
       "border": null,
       "bottom": null,
       "display": null,
       "flex": null,
       "flex_flow": null,
       "grid_area": null,
       "grid_auto_columns": null,
       "grid_auto_flow": null,
       "grid_auto_rows": null,
       "grid_column": null,
       "grid_gap": null,
       "grid_row": null,
       "grid_template_areas": null,
       "grid_template_columns": null,
       "grid_template_rows": null,
       "height": null,
       "justify_content": null,
       "justify_items": null,
       "left": null,
       "margin": null,
       "max_height": null,
       "max_width": null,
       "min_height": null,
       "min_width": null,
       "object_fit": null,
       "object_position": null,
       "order": null,
       "overflow": null,
       "overflow_x": null,
       "overflow_y": null,
       "padding": null,
       "right": null,
       "top": null,
       "visibility": null,
       "width": null
      }
     },
     "fb38c69fec0d46cd9e0a6ab33f408026": {
      "model_module": "@jupyter-widgets/controls",
      "model_module_version": "1.5.0",
      "model_name": "ProgressStyleModel",
      "state": {
       "_model_module": "@jupyter-widgets/controls",
       "_model_module_version": "1.5.0",
       "_model_name": "ProgressStyleModel",
       "_view_count": null,
       "_view_module": "@jupyter-widgets/base",
       "_view_module_version": "1.2.0",
       "_view_name": "StyleView",
       "bar_color": null,
       "description_width": ""
      }
     },
     "ff709dd367f341f78bde4172e9878955": {
      "model_module": "@jupyter-widgets/base",
      "model_module_version": "1.2.0",
      "model_name": "LayoutModel",
      "state": {
       "_model_module": "@jupyter-widgets/base",
       "_model_module_version": "1.2.0",
       "_model_name": "LayoutModel",
       "_view_count": null,
       "_view_module": "@jupyter-widgets/base",
       "_view_module_version": "1.2.0",
       "_view_name": "LayoutView",
       "align_content": null,
       "align_items": null,
       "align_self": null,
       "border": null,
       "bottom": null,
       "display": null,
       "flex": null,
       "flex_flow": null,
       "grid_area": null,
       "grid_auto_columns": null,
       "grid_auto_flow": null,
       "grid_auto_rows": null,
       "grid_column": null,
       "grid_gap": null,
       "grid_row": null,
       "grid_template_areas": null,
       "grid_template_columns": null,
       "grid_template_rows": null,
       "height": null,
       "justify_content": null,
       "justify_items": null,
       "left": null,
       "margin": null,
       "max_height": null,
       "max_width": null,
       "min_height": null,
       "min_width": null,
       "object_fit": null,
       "object_position": null,
       "order": null,
       "overflow": null,
       "overflow_x": null,
       "overflow_y": null,
       "padding": null,
       "right": null,
       "top": null,
       "visibility": null,
       "width": null
      }
     }
    },
    "version_major": 2,
    "version_minor": 0
   }
  }
 },
 "nbformat": 4,
 "nbformat_minor": 5
}
